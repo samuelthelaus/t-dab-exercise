{
 "cells": [
  {
   "cell_type": "markdown",
   "metadata": {},
   "source": [
    "# The Data Analysis Bureau Exercise"
   ]
  },
  {
   "cell_type": "code",
   "execution_count": 29,
   "metadata": {},
   "outputs": [],
   "source": [
    "import json\n",
    "import pandas as pd\n",
    "import numpy as np\n",
    "import matplotlib.pyplot as plt\n",
    "import seaborn as sns\n",
    "import random\n",
    "\n",
    "from statsmodels.tsa.stattools import adfuller, kpss\n",
    "from sklearn.preprocessing import StandardScaler\n",
    "from sklearn.decomposition import PCA\n",
    "from statsmodels.tsa.vector_ar.var_model import VAR\n",
    "import xgboost as xgb\n",
    "from sklearn.metrics import classification_report, roc_auc_score\n",
    "from keras.models import Sequential\n",
    "from keras.layers import Dense\n",
    "from keras.layers import LSTM"
   ]
  },
  {
   "cell_type": "markdown",
   "metadata": {},
   "source": [
    "## Data import and inspection"
   ]
  },
  {
   "cell_type": "code",
   "execution_count": 2,
   "metadata": {},
   "outputs": [],
   "source": [
    "# Open JSON file and assign to dict\n",
    "f = open('/Users/sam/Downloads/DS 2021 Exercise/data_dict.json')\n",
    "data_dict = json.load(f)\n",
    "f.close()"
   ]
  },
  {
   "cell_type": "code",
   "execution_count": 3,
   "metadata": {},
   "outputs": [
    {
     "name": "stdout",
     "output_type": "stream",
     "text": [
      "{'name': 'CurrentSpeed', 'units': 'knots', 'range': None, 'description': ' '}\n",
      "{'name': 'CurrentDir', 'units': 'degrees', 'range': None, 'description': ' '}\n",
      "{'name': 'TWS', 'units': 'knots', 'range': None, 'description': 'True Wind Speed'}\n",
      "{'name': 'TWA', 'units': 'degrees', 'range': None, 'description': 'True Wind Angle'}\n",
      "{'name': 'AWS', 'units': 'knots', 'range': None, 'description': 'Apparent Wind Speed'}\n",
      "{'name': 'AWA', 'units': 'degrees', 'range': None, 'description': 'Apparent Wind Angle'}\n",
      "{'name': 'Roll', 'units': 'degrees', 'range': None, 'description': 'Roll, also equals to -Heel'}\n",
      "{'name': 'Pitch', 'units': 'degrees', 'range': None, 'description': 'Pitch angle'}\n",
      "{'name': 'HeadingMag', 'units': 'degrees', 'range': None, 'description': 'magnetic heading'}\n",
      "{'name': 'HoG', 'units': 'degrees', 'range': None, 'description': 'heading over ground'}\n",
      "{'name': 'HeadingTrue', 'units': 'degrees', 'range': None, 'description': 'true heading. True heading - heading over ground = Yaw'}\n",
      "{'name': 'AirTemp', 'units': 'degrees Celcius', 'range': None, 'description': 'air temperature'}\n",
      "{'name': 'Longitude', 'units': 'degrees', 'range': '[0, 360]', 'description': 'Longitudinal coordinate'}\n",
      "{'name': 'LonDecMin', 'units': 'minutes of angle', 'range': '', 'description': 'Decimals of the longitude minutes'}\n",
      "{'name': 'Latitude', 'units': 'degrees', 'range': '[0, 360]', 'description': 'Latitudinal coordinate'}\n",
      "{'name': 'LatDecMin', 'units': 'minutes of angle', 'range': '', 'description': 'Decimals of the latitude minutes'}\n",
      "{'name': 'SoG', 'units': 'knots', 'range': None, 'description': 'Speed over ground'}\n",
      "{'name': 'SoS', 'units': 'knots', 'range': None, 'description': 'Speed over surface'}\n",
      "{'name': 'AvgSoS', 'units': 'knots', 'range': None, 'description': 'Average speed over surface'}\n",
      "{'name': 'VMG', 'units': 'knots', 'range': None, 'description': 'Velocity made good. Calculated as Speed over surface * cos(True Wind angle)'}\n",
      "{'name': 'RudderAng', 'units': 'degrees', 'range': None, 'description': 'Rudder angle'}\n",
      "{'name': 'Leeway', 'units': 'degrees', 'range': None, 'description': ' '}\n",
      "{'name': 'TWD', 'units': 'degrees', 'range': None, 'description': 'True wind direction'}\n",
      "{'name': 'WSoG', 'units': 'knots', 'range': None, 'description': 'Wind speed over ground'}\n",
      "{'name': 'VoltageDrawn', 'units': 'Volts', 'range': None, 'description': 'Voltage drawn by the system of one of its parts'}\n",
      "{'name': 'ModePilote', 'units': 'unclear', 'range': 'unclear', 'description': 'unclear'}\n"
     ]
    }
   ],
   "source": [
    "# Print line-by-line to fit everything\n",
    "for key in data_dict.keys():\n",
    "    print(data_dict[key])"
   ]
  },
  {
   "cell_type": "code",
   "execution_count": 3,
   "metadata": {},
   "outputs": [
    {
     "data": {
      "text/html": [
       "<div>\n",
       "<style scoped>\n",
       "    .dataframe tbody tr th:only-of-type {\n",
       "        vertical-align: middle;\n",
       "    }\n",
       "\n",
       "    .dataframe tbody tr th {\n",
       "        vertical-align: top;\n",
       "    }\n",
       "\n",
       "    .dataframe thead th {\n",
       "        text-align: right;\n",
       "    }\n",
       "</style>\n",
       "<table border=\"1\" class=\"dataframe\">\n",
       "  <thead>\n",
       "    <tr style=\"text-align: right;\">\n",
       "      <th></th>\n",
       "      <th>CurrentSpeed</th>\n",
       "      <th>CurrentDir</th>\n",
       "      <th>TWS</th>\n",
       "      <th>TWA</th>\n",
       "      <th>AWS</th>\n",
       "      <th>AWA</th>\n",
       "      <th>Roll</th>\n",
       "      <th>Pitch</th>\n",
       "      <th>HeadingMag</th>\n",
       "      <th>HoG</th>\n",
       "      <th>...</th>\n",
       "      <th>VMG</th>\n",
       "      <th>RudderAng</th>\n",
       "      <th>Leeway</th>\n",
       "      <th>TWD</th>\n",
       "      <th>WSoG</th>\n",
       "      <th>VoltageDrawn</th>\n",
       "      <th>ModePilote</th>\n",
       "      <th>DateTime</th>\n",
       "      <th>Yaw</th>\n",
       "      <th>Tacking</th>\n",
       "    </tr>\n",
       "  </thead>\n",
       "  <tbody>\n",
       "    <tr>\n",
       "      <th>0</th>\n",
       "      <td>0.0756</td>\n",
       "      <td>123.0</td>\n",
       "      <td>10.8</td>\n",
       "      <td>48.0</td>\n",
       "      <td>10.4</td>\n",
       "      <td>48.0</td>\n",
       "      <td>-3.54</td>\n",
       "      <td>9.080000</td>\n",
       "      <td>24.0</td>\n",
       "      <td>308.0</td>\n",
       "      <td>...</td>\n",
       "      <td>0.0594</td>\n",
       "      <td>4.666667</td>\n",
       "      <td>0.0</td>\n",
       "      <td>356.0</td>\n",
       "      <td>10.5</td>\n",
       "      <td>11.8</td>\n",
       "      <td>5.0</td>\n",
       "      <td>2019-04-14 00:00:00.000</td>\n",
       "      <td>-299.0</td>\n",
       "      <td>1.0</td>\n",
       "    </tr>\n",
       "    <tr>\n",
       "      <th>1</th>\n",
       "      <td>0.0756</td>\n",
       "      <td>123.0</td>\n",
       "      <td>10.8</td>\n",
       "      <td>48.0</td>\n",
       "      <td>10.4</td>\n",
       "      <td>48.0</td>\n",
       "      <td>-3.54</td>\n",
       "      <td>9.080000</td>\n",
       "      <td>24.0</td>\n",
       "      <td>308.0</td>\n",
       "      <td>...</td>\n",
       "      <td>0.0594</td>\n",
       "      <td>4.666667</td>\n",
       "      <td>0.0</td>\n",
       "      <td>356.0</td>\n",
       "      <td>10.5</td>\n",
       "      <td>11.8</td>\n",
       "      <td>5.0</td>\n",
       "      <td>2019-04-14 00:00:01.000</td>\n",
       "      <td>-299.0</td>\n",
       "      <td>1.0</td>\n",
       "    </tr>\n",
       "    <tr>\n",
       "      <th>2</th>\n",
       "      <td>0.0756</td>\n",
       "      <td>123.0</td>\n",
       "      <td>10.8</td>\n",
       "      <td>48.0</td>\n",
       "      <td>10.4</td>\n",
       "      <td>48.0</td>\n",
       "      <td>-3.52</td>\n",
       "      <td>9.099999</td>\n",
       "      <td>24.0</td>\n",
       "      <td>308.0</td>\n",
       "      <td>...</td>\n",
       "      <td>0.0594</td>\n",
       "      <td>4.666667</td>\n",
       "      <td>0.0</td>\n",
       "      <td>356.0</td>\n",
       "      <td>9.9</td>\n",
       "      <td>11.8</td>\n",
       "      <td>5.0</td>\n",
       "      <td>2019-04-14 00:00:02.000</td>\n",
       "      <td>-299.0</td>\n",
       "      <td>1.0</td>\n",
       "    </tr>\n",
       "    <tr>\n",
       "      <th>3</th>\n",
       "      <td>0.0756</td>\n",
       "      <td>123.0</td>\n",
       "      <td>10.8</td>\n",
       "      <td>48.0</td>\n",
       "      <td>10.4</td>\n",
       "      <td>48.0</td>\n",
       "      <td>-3.52</td>\n",
       "      <td>9.099999</td>\n",
       "      <td>24.0</td>\n",
       "      <td>308.0</td>\n",
       "      <td>...</td>\n",
       "      <td>0.0594</td>\n",
       "      <td>4.666667</td>\n",
       "      <td>0.0</td>\n",
       "      <td>356.0</td>\n",
       "      <td>9.9</td>\n",
       "      <td>11.8</td>\n",
       "      <td>5.0</td>\n",
       "      <td>2019-04-14 00:00:03.000</td>\n",
       "      <td>-299.0</td>\n",
       "      <td>1.0</td>\n",
       "    </tr>\n",
       "    <tr>\n",
       "      <th>4</th>\n",
       "      <td>0.0756</td>\n",
       "      <td>123.0</td>\n",
       "      <td>10.8</td>\n",
       "      <td>48.0</td>\n",
       "      <td>10.4</td>\n",
       "      <td>48.0</td>\n",
       "      <td>-3.50</td>\n",
       "      <td>9.099999</td>\n",
       "      <td>24.0</td>\n",
       "      <td>308.0</td>\n",
       "      <td>...</td>\n",
       "      <td>0.0594</td>\n",
       "      <td>4.666667</td>\n",
       "      <td>0.0</td>\n",
       "      <td>356.0</td>\n",
       "      <td>10.3</td>\n",
       "      <td>11.8</td>\n",
       "      <td>5.0</td>\n",
       "      <td>2019-04-14 00:00:04.000</td>\n",
       "      <td>-299.0</td>\n",
       "      <td>1.0</td>\n",
       "    </tr>\n",
       "  </tbody>\n",
       "</table>\n",
       "<p>5 rows × 27 columns</p>\n",
       "</div>"
      ],
      "text/plain": [
       "   CurrentSpeed  CurrentDir   TWS   TWA   AWS   AWA  Roll     Pitch  \\\n",
       "0        0.0756       123.0  10.8  48.0  10.4  48.0 -3.54  9.080000   \n",
       "1        0.0756       123.0  10.8  48.0  10.4  48.0 -3.54  9.080000   \n",
       "2        0.0756       123.0  10.8  48.0  10.4  48.0 -3.52  9.099999   \n",
       "3        0.0756       123.0  10.8  48.0  10.4  48.0 -3.52  9.099999   \n",
       "4        0.0756       123.0  10.8  48.0  10.4  48.0 -3.50  9.099999   \n",
       "\n",
       "   HeadingMag    HoG  ...     VMG  RudderAng  Leeway    TWD  WSoG  \\\n",
       "0        24.0  308.0  ...  0.0594   4.666667     0.0  356.0  10.5   \n",
       "1        24.0  308.0  ...  0.0594   4.666667     0.0  356.0  10.5   \n",
       "2        24.0  308.0  ...  0.0594   4.666667     0.0  356.0   9.9   \n",
       "3        24.0  308.0  ...  0.0594   4.666667     0.0  356.0   9.9   \n",
       "4        24.0  308.0  ...  0.0594   4.666667     0.0  356.0  10.3   \n",
       "\n",
       "   VoltageDrawn  ModePilote                 DateTime    Yaw  Tacking  \n",
       "0          11.8         5.0  2019-04-14 00:00:00.000 -299.0      1.0  \n",
       "1          11.8         5.0  2019-04-14 00:00:01.000 -299.0      1.0  \n",
       "2          11.8         5.0  2019-04-14 00:00:02.000 -299.0      1.0  \n",
       "3          11.8         5.0  2019-04-14 00:00:03.000 -299.0      1.0  \n",
       "4          11.8         5.0  2019-04-14 00:00:04.000 -299.0      1.0  \n",
       "\n",
       "[5 rows x 27 columns]"
      ]
     },
     "execution_count": 3,
     "metadata": {},
     "output_type": "execute_result"
    }
   ],
   "source": [
    "# Import data and inspect top\n",
    "data = pd.read_csv('/Users/sam/Downloads/test_data.csv')\n",
    "data.head()"
   ]
  },
  {
   "cell_type": "code",
   "execution_count": 4,
   "metadata": {},
   "outputs": [],
   "source": [
    "# Convert date to DT\n",
    "data['DateTime'] = pd.to_datetime(data['DateTime'])"
   ]
  },
  {
   "cell_type": "code",
   "execution_count": 4,
   "metadata": {},
   "outputs": [
    {
     "ename": "TypeError",
     "evalue": "Cannot interpret '<attribute 'dtype' of 'numpy.generic' objects>' as a data type",
     "output_type": "error",
     "traceback": [
      "\u001b[0;31m---------------------------------------------------------------------------\u001b[0m",
      "\u001b[0;31mTypeError\u001b[0m                                 Traceback (most recent call last)",
      "\u001b[0;32m<ipython-input-4-7b1a54fd62de>\u001b[0m in \u001b[0;36m<module>\u001b[0;34m\u001b[0m\n\u001b[1;32m      1\u001b[0m \u001b[0;31m# Check column types\u001b[0m\u001b[0;34m\u001b[0m\u001b[0;34m\u001b[0m\u001b[0;34m\u001b[0m\u001b[0m\n\u001b[0;32m----> 2\u001b[0;31m \u001b[0mdata\u001b[0m\u001b[0;34m.\u001b[0m\u001b[0minfo\u001b[0m\u001b[0;34m(\u001b[0m\u001b[0;34m)\u001b[0m\u001b[0;34m\u001b[0m\u001b[0;34m\u001b[0m\u001b[0m\n\u001b[0m",
      "\u001b[0;32m~/opt/anaconda3/lib/python3.7/site-packages/pandas/core/frame.py\u001b[0m in \u001b[0;36minfo\u001b[0;34m(self, verbose, buf, max_cols, memory_usage, null_counts)\u001b[0m\n\u001b[1;32m   2555\u001b[0m                 \u001b[0;32mif\u001b[0m \u001b[0;34m\"object\"\u001b[0m \u001b[0;32min\u001b[0m \u001b[0mcounts\u001b[0m \u001b[0;32mor\u001b[0m \u001b[0mself\u001b[0m\u001b[0;34m.\u001b[0m\u001b[0mindex\u001b[0m\u001b[0;34m.\u001b[0m\u001b[0m_is_memory_usage_qualified\u001b[0m\u001b[0;34m(\u001b[0m\u001b[0;34m)\u001b[0m\u001b[0;34m:\u001b[0m\u001b[0;34m\u001b[0m\u001b[0;34m\u001b[0m\u001b[0m\n\u001b[1;32m   2556\u001b[0m                     \u001b[0msize_qualifier\u001b[0m \u001b[0;34m=\u001b[0m \u001b[0;34m\"+\"\u001b[0m\u001b[0;34m\u001b[0m\u001b[0;34m\u001b[0m\u001b[0m\n\u001b[0;32m-> 2557\u001b[0;31m             \u001b[0mmem_usage\u001b[0m \u001b[0;34m=\u001b[0m \u001b[0mself\u001b[0m\u001b[0;34m.\u001b[0m\u001b[0mmemory_usage\u001b[0m\u001b[0;34m(\u001b[0m\u001b[0mindex\u001b[0m\u001b[0;34m=\u001b[0m\u001b[0;32mTrue\u001b[0m\u001b[0;34m,\u001b[0m \u001b[0mdeep\u001b[0m\u001b[0;34m=\u001b[0m\u001b[0mdeep\u001b[0m\u001b[0;34m)\u001b[0m\u001b[0;34m.\u001b[0m\u001b[0msum\u001b[0m\u001b[0;34m(\u001b[0m\u001b[0;34m)\u001b[0m\u001b[0;34m\u001b[0m\u001b[0;34m\u001b[0m\u001b[0m\n\u001b[0m\u001b[1;32m   2558\u001b[0m             lines.append(\n\u001b[1;32m   2559\u001b[0m                 \"memory usage: {mem}\\n\".format(\n",
      "\u001b[0;32m~/opt/anaconda3/lib/python3.7/site-packages/pandas/core/frame.py\u001b[0m in \u001b[0;36mmemory_usage\u001b[0;34m(self, index, deep)\u001b[0m\n\u001b[1;32m   2653\u001b[0m         )\n\u001b[1;32m   2654\u001b[0m         \u001b[0;32mif\u001b[0m \u001b[0mindex\u001b[0m\u001b[0;34m:\u001b[0m\u001b[0;34m\u001b[0m\u001b[0;34m\u001b[0m\u001b[0m\n\u001b[0;32m-> 2655\u001b[0;31m             result = Series(self.index.memory_usage(deep=deep), index=[\"Index\"]).append(\n\u001b[0m\u001b[1;32m   2656\u001b[0m                 \u001b[0mresult\u001b[0m\u001b[0;34m\u001b[0m\u001b[0;34m\u001b[0m\u001b[0m\n\u001b[1;32m   2657\u001b[0m             )\n",
      "\u001b[0;32m~/opt/anaconda3/lib/python3.7/site-packages/pandas/core/series.py\u001b[0m in \u001b[0;36m__init__\u001b[0;34m(self, data, index, dtype, name, copy, fastpath)\u001b[0m\n\u001b[1;32m    309\u001b[0m                     \u001b[0mdata\u001b[0m \u001b[0;34m=\u001b[0m \u001b[0mdata\u001b[0m\u001b[0;34m.\u001b[0m\u001b[0mcopy\u001b[0m\u001b[0;34m(\u001b[0m\u001b[0;34m)\u001b[0m\u001b[0;34m\u001b[0m\u001b[0;34m\u001b[0m\u001b[0m\n\u001b[1;32m    310\u001b[0m             \u001b[0;32melse\u001b[0m\u001b[0;34m:\u001b[0m\u001b[0;34m\u001b[0m\u001b[0;34m\u001b[0m\u001b[0m\n\u001b[0;32m--> 311\u001b[0;31m                 \u001b[0mdata\u001b[0m \u001b[0;34m=\u001b[0m \u001b[0msanitize_array\u001b[0m\u001b[0;34m(\u001b[0m\u001b[0mdata\u001b[0m\u001b[0;34m,\u001b[0m \u001b[0mindex\u001b[0m\u001b[0;34m,\u001b[0m \u001b[0mdtype\u001b[0m\u001b[0;34m,\u001b[0m \u001b[0mcopy\u001b[0m\u001b[0;34m,\u001b[0m \u001b[0mraise_cast_failure\u001b[0m\u001b[0;34m=\u001b[0m\u001b[0;32mTrue\u001b[0m\u001b[0;34m)\u001b[0m\u001b[0;34m\u001b[0m\u001b[0;34m\u001b[0m\u001b[0m\n\u001b[0m\u001b[1;32m    312\u001b[0m \u001b[0;34m\u001b[0m\u001b[0m\n\u001b[1;32m    313\u001b[0m                 \u001b[0mdata\u001b[0m \u001b[0;34m=\u001b[0m \u001b[0mSingleBlockManager\u001b[0m\u001b[0;34m(\u001b[0m\u001b[0mdata\u001b[0m\u001b[0;34m,\u001b[0m \u001b[0mindex\u001b[0m\u001b[0;34m,\u001b[0m \u001b[0mfastpath\u001b[0m\u001b[0;34m=\u001b[0m\u001b[0;32mTrue\u001b[0m\u001b[0;34m)\u001b[0m\u001b[0;34m\u001b[0m\u001b[0;34m\u001b[0m\u001b[0m\n",
      "\u001b[0;32m~/opt/anaconda3/lib/python3.7/site-packages/pandas/core/internals/construction.py\u001b[0m in \u001b[0;36msanitize_array\u001b[0;34m(data, index, dtype, copy, raise_cast_failure)\u001b[0m\n\u001b[1;32m    710\u001b[0m                 \u001b[0mvalue\u001b[0m \u001b[0;34m=\u001b[0m \u001b[0mmaybe_cast_to_datetime\u001b[0m\u001b[0;34m(\u001b[0m\u001b[0mvalue\u001b[0m\u001b[0;34m,\u001b[0m \u001b[0mdtype\u001b[0m\u001b[0;34m)\u001b[0m\u001b[0;34m\u001b[0m\u001b[0;34m\u001b[0m\u001b[0m\n\u001b[1;32m    711\u001b[0m \u001b[0;34m\u001b[0m\u001b[0m\n\u001b[0;32m--> 712\u001b[0;31m             \u001b[0msubarr\u001b[0m \u001b[0;34m=\u001b[0m \u001b[0mconstruct_1d_arraylike_from_scalar\u001b[0m\u001b[0;34m(\u001b[0m\u001b[0mvalue\u001b[0m\u001b[0;34m,\u001b[0m \u001b[0mlen\u001b[0m\u001b[0;34m(\u001b[0m\u001b[0mindex\u001b[0m\u001b[0;34m)\u001b[0m\u001b[0;34m,\u001b[0m \u001b[0mdtype\u001b[0m\u001b[0;34m)\u001b[0m\u001b[0;34m\u001b[0m\u001b[0;34m\u001b[0m\u001b[0m\n\u001b[0m\u001b[1;32m    713\u001b[0m \u001b[0;34m\u001b[0m\u001b[0m\n\u001b[1;32m    714\u001b[0m         \u001b[0;32melse\u001b[0m\u001b[0;34m:\u001b[0m\u001b[0;34m\u001b[0m\u001b[0;34m\u001b[0m\u001b[0m\n",
      "\u001b[0;32m~/opt/anaconda3/lib/python3.7/site-packages/pandas/core/dtypes/cast.py\u001b[0m in \u001b[0;36mconstruct_1d_arraylike_from_scalar\u001b[0;34m(value, length, dtype)\u001b[0m\n\u001b[1;32m   1231\u001b[0m                 \u001b[0mvalue\u001b[0m \u001b[0;34m=\u001b[0m \u001b[0mensure_str\u001b[0m\u001b[0;34m(\u001b[0m\u001b[0mvalue\u001b[0m\u001b[0;34m)\u001b[0m\u001b[0;34m\u001b[0m\u001b[0;34m\u001b[0m\u001b[0m\n\u001b[1;32m   1232\u001b[0m \u001b[0;34m\u001b[0m\u001b[0m\n\u001b[0;32m-> 1233\u001b[0;31m         \u001b[0msubarr\u001b[0m \u001b[0;34m=\u001b[0m \u001b[0mnp\u001b[0m\u001b[0;34m.\u001b[0m\u001b[0mempty\u001b[0m\u001b[0;34m(\u001b[0m\u001b[0mlength\u001b[0m\u001b[0;34m,\u001b[0m \u001b[0mdtype\u001b[0m\u001b[0;34m=\u001b[0m\u001b[0mdtype\u001b[0m\u001b[0;34m)\u001b[0m\u001b[0;34m\u001b[0m\u001b[0;34m\u001b[0m\u001b[0m\n\u001b[0m\u001b[1;32m   1234\u001b[0m         \u001b[0msubarr\u001b[0m\u001b[0;34m.\u001b[0m\u001b[0mfill\u001b[0m\u001b[0;34m(\u001b[0m\u001b[0mvalue\u001b[0m\u001b[0;34m)\u001b[0m\u001b[0;34m\u001b[0m\u001b[0;34m\u001b[0m\u001b[0m\n\u001b[1;32m   1235\u001b[0m \u001b[0;34m\u001b[0m\u001b[0m\n",
      "\u001b[0;31mTypeError\u001b[0m: Cannot interpret '<attribute 'dtype' of 'numpy.generic' objects>' as a data type"
     ]
    }
   ],
   "source": [
    "# Check column types\n",
    "data.info()"
   ]
  },
  {
   "cell_type": "code",
   "execution_count": 20,
   "metadata": {},
   "outputs": [
    {
     "data": {
      "text/html": [
       "<div>\n",
       "<style scoped>\n",
       "    .dataframe tbody tr th:only-of-type {\n",
       "        vertical-align: middle;\n",
       "    }\n",
       "\n",
       "    .dataframe tbody tr th {\n",
       "        vertical-align: top;\n",
       "    }\n",
       "\n",
       "    .dataframe thead th {\n",
       "        text-align: right;\n",
       "    }\n",
       "</style>\n",
       "<table border=\"1\" class=\"dataframe\">\n",
       "  <thead>\n",
       "    <tr style=\"text-align: right;\">\n",
       "      <th></th>\n",
       "      <th>Longitude</th>\n",
       "      <th>Latitude</th>\n",
       "      <th>SoG</th>\n",
       "      <th>SoS</th>\n",
       "      <th>AvgSoS</th>\n",
       "      <th>VMG</th>\n",
       "      <th>RudderAng</th>\n",
       "      <th>Leeway</th>\n",
       "      <th>TWD</th>\n",
       "      <th>WSoG</th>\n",
       "      <th>VoltageDrawn</th>\n",
       "      <th>ModePilote</th>\n",
       "      <th>Yaw</th>\n",
       "      <th>Tacking</th>\n",
       "    </tr>\n",
       "  </thead>\n",
       "  <tbody>\n",
       "    <tr>\n",
       "      <td>count</td>\n",
       "      <td>219836.000000</td>\n",
       "      <td>219840.000000</td>\n",
       "      <td>219842.000000</td>\n",
       "      <td>219840.000000</td>\n",
       "      <td>219838.000000</td>\n",
       "      <td>219837.000000</td>\n",
       "      <td>219838.000000</td>\n",
       "      <td>219839.000000</td>\n",
       "      <td>219838.000000</td>\n",
       "      <td>219836.000000</td>\n",
       "      <td>219839.000000</td>\n",
       "      <td>219839.000000</td>\n",
       "      <td>219834.000000</td>\n",
       "      <td>219995.000000</td>\n",
       "    </tr>\n",
       "    <tr>\n",
       "      <td>mean</td>\n",
       "      <td>-60.675999</td>\n",
       "      <td>16.805625</td>\n",
       "      <td>7.658572</td>\n",
       "      <td>7.607856</td>\n",
       "      <td>6.382535</td>\n",
       "      <td>4.109238</td>\n",
       "      <td>2.025093</td>\n",
       "      <td>-1.226548</td>\n",
       "      <td>83.323893</td>\n",
       "      <td>14.746686</td>\n",
       "      <td>12.417475</td>\n",
       "      <td>2.422614</td>\n",
       "      <td>5.595763</td>\n",
       "      <td>0.209273</td>\n",
       "    </tr>\n",
       "    <tr>\n",
       "      <td>std</td>\n",
       "      <td>0.982475</td>\n",
       "      <td>3.929849</td>\n",
       "      <td>3.075285</td>\n",
       "      <td>3.084592</td>\n",
       "      <td>2.903147</td>\n",
       "      <td>2.066419</td>\n",
       "      <td>4.963518</td>\n",
       "      <td>0.793367</td>\n",
       "      <td>53.810225</td>\n",
       "      <td>4.291340</td>\n",
       "      <td>0.570748</td>\n",
       "      <td>1.043669</td>\n",
       "      <td>140.521400</td>\n",
       "      <td>0.406791</td>\n",
       "    </tr>\n",
       "    <tr>\n",
       "      <td>min</td>\n",
       "      <td>-61.816873</td>\n",
       "      <td>11.971172</td>\n",
       "      <td>0.005400</td>\n",
       "      <td>0.000000</td>\n",
       "      <td>0.070200</td>\n",
       "      <td>0.000000</td>\n",
       "      <td>-37.333336</td>\n",
       "      <td>-10.000000</td>\n",
       "      <td>0.000000</td>\n",
       "      <td>0.000000</td>\n",
       "      <td>11.100000</td>\n",
       "      <td>2.000000</td>\n",
       "      <td>-359.000000</td>\n",
       "      <td>0.000000</td>\n",
       "    </tr>\n",
       "    <tr>\n",
       "      <td>25%</td>\n",
       "      <td>-61.639917</td>\n",
       "      <td>12.913855</td>\n",
       "      <td>7.684200</td>\n",
       "      <td>7.597800</td>\n",
       "      <td>5.637600</td>\n",
       "      <td>3.148200</td>\n",
       "      <td>-0.666667</td>\n",
       "      <td>-2.000000</td>\n",
       "      <td>61.000000</td>\n",
       "      <td>11.800000</td>\n",
       "      <td>12.100000</td>\n",
       "      <td>2.000000</td>\n",
       "      <td>-13.000000</td>\n",
       "      <td>0.000000</td>\n",
       "    </tr>\n",
       "    <tr>\n",
       "      <td>50%</td>\n",
       "      <td>-61.199546</td>\n",
       "      <td>15.232683</td>\n",
       "      <td>8.726400</td>\n",
       "      <td>8.699400</td>\n",
       "      <td>7.581600</td>\n",
       "      <td>4.579200</td>\n",
       "      <td>2.333333</td>\n",
       "      <td>-1.000000</td>\n",
       "      <td>70.000000</td>\n",
       "      <td>14.800000</td>\n",
       "      <td>12.300000</td>\n",
       "      <td>2.000000</td>\n",
       "      <td>-6.000000</td>\n",
       "      <td>0.000000</td>\n",
       "    </tr>\n",
       "    <tr>\n",
       "      <td>75%</td>\n",
       "      <td>-59.735390</td>\n",
       "      <td>20.902214</td>\n",
       "      <td>9.369000</td>\n",
       "      <td>9.298800</td>\n",
       "      <td>8.461801</td>\n",
       "      <td>5.583600</td>\n",
       "      <td>4.666667</td>\n",
       "      <td>-1.000000</td>\n",
       "      <td>82.000000</td>\n",
       "      <td>17.600000</td>\n",
       "      <td>12.500000</td>\n",
       "      <td>2.000000</td>\n",
       "      <td>-1.000000</td>\n",
       "      <td>0.000000</td>\n",
       "    </tr>\n",
       "    <tr>\n",
       "      <td>max</td>\n",
       "      <td>-59.279375</td>\n",
       "      <td>22.209945</td>\n",
       "      <td>12.598201</td>\n",
       "      <td>12.700800</td>\n",
       "      <td>8.532001</td>\n",
       "      <td>9.860400</td>\n",
       "      <td>47.000000</td>\n",
       "      <td>9.000000</td>\n",
       "      <td>359.000000</td>\n",
       "      <td>35.700001</td>\n",
       "      <td>14.200000</td>\n",
       "      <td>5.000000</td>\n",
       "      <td>359.000000</td>\n",
       "      <td>1.000000</td>\n",
       "    </tr>\n",
       "  </tbody>\n",
       "</table>\n",
       "</div>"
      ],
      "text/plain": [
       "           Longitude       Latitude            SoG            SoS  \\\n",
       "count  219836.000000  219840.000000  219842.000000  219840.000000   \n",
       "mean      -60.675999      16.805625       7.658572       7.607856   \n",
       "std         0.982475       3.929849       3.075285       3.084592   \n",
       "min       -61.816873      11.971172       0.005400       0.000000   \n",
       "25%       -61.639917      12.913855       7.684200       7.597800   \n",
       "50%       -61.199546      15.232683       8.726400       8.699400   \n",
       "75%       -59.735390      20.902214       9.369000       9.298800   \n",
       "max       -59.279375      22.209945      12.598201      12.700800   \n",
       "\n",
       "              AvgSoS            VMG      RudderAng         Leeway  \\\n",
       "count  219838.000000  219837.000000  219838.000000  219839.000000   \n",
       "mean        6.382535       4.109238       2.025093      -1.226548   \n",
       "std         2.903147       2.066419       4.963518       0.793367   \n",
       "min         0.070200       0.000000     -37.333336     -10.000000   \n",
       "25%         5.637600       3.148200      -0.666667      -2.000000   \n",
       "50%         7.581600       4.579200       2.333333      -1.000000   \n",
       "75%         8.461801       5.583600       4.666667      -1.000000   \n",
       "max         8.532001       9.860400      47.000000       9.000000   \n",
       "\n",
       "                 TWD           WSoG   VoltageDrawn     ModePilote  \\\n",
       "count  219838.000000  219836.000000  219839.000000  219839.000000   \n",
       "mean       83.323893      14.746686      12.417475       2.422614   \n",
       "std        53.810225       4.291340       0.570748       1.043669   \n",
       "min         0.000000       0.000000      11.100000       2.000000   \n",
       "25%        61.000000      11.800000      12.100000       2.000000   \n",
       "50%        70.000000      14.800000      12.300000       2.000000   \n",
       "75%        82.000000      17.600000      12.500000       2.000000   \n",
       "max       359.000000      35.700001      14.200000       5.000000   \n",
       "\n",
       "                 Yaw        Tacking  \n",
       "count  219834.000000  219995.000000  \n",
       "mean        5.595763       0.209273  \n",
       "std       140.521400       0.406791  \n",
       "min      -359.000000       0.000000  \n",
       "25%       -13.000000       0.000000  \n",
       "50%        -6.000000       0.000000  \n",
       "75%        -1.000000       0.000000  \n",
       "max       359.000000       1.000000  "
      ]
     },
     "execution_count": 20,
     "metadata": {},
     "output_type": "execute_result"
    }
   ],
   "source": [
    "# Describe numerical data\n",
    "data.iloc[:,12:].describe()"
   ]
  },
  {
   "cell_type": "code",
   "execution_count": 22,
   "metadata": {},
   "outputs": [
    {
     "name": "stdout",
     "output_type": "stream",
     "text": [
      "CurrentSpeed: 0\n",
      "CurrentDir: 0\n",
      "TWS: 0\n",
      "TWA: 0\n",
      "AWS: 0\n",
      "AWA: 0\n",
      "Roll: 0\n",
      "Pitch: 0\n",
      "HeadingMag: 0\n",
      "HoG: 0\n",
      "HeadingTrue: 0\n",
      "AirTemp: 0\n",
      "Longitude: 0\n",
      "Latitude: 0\n",
      "SoG: 0\n",
      "SoS: 0\n",
      "AvgSoS: 0\n",
      "VMG: 0\n",
      "RudderAng: 0\n",
      "Leeway: 0\n",
      "TWD: 0\n",
      "WSoG: 0\n",
      "VoltageDrawn: 0\n",
      "ModePilote: 0\n",
      "DateTime: 0\n",
      "Yaw: 0\n",
      "Tacking: 0\n"
     ]
    }
   ],
   "source": [
    "for col in data.columns:\n",
    "    print(f'{col}: {data[col].isna().sum()}')"
   ]
  },
  {
   "cell_type": "markdown",
   "metadata": {},
   "source": [
    "## Cleaning data\n",
    "\n",
    "Interpolate NaN in DT as we know it samples once per second. So if DT is NaN at index 1, we can insert the value as DT at index 0 plus one second."
   ]
  },
  {
   "cell_type": "code",
   "execution_count": 5,
   "metadata": {},
   "outputs": [
    {
     "data": {
      "text/plain": [
       "array([ 39959,  81738,  82751,  91468, 121548])"
      ]
     },
     "execution_count": 5,
     "metadata": {},
     "output_type": "execute_result"
    }
   ],
   "source": [
    "# Get index of missing in DT\n",
    "inds = pd.isnull(data['DateTime']).to_numpy().nonzero()[0]\n",
    "inds"
   ]
  },
  {
   "cell_type": "code",
   "execution_count": 6,
   "metadata": {},
   "outputs": [],
   "source": [
    "# For each missing value, we add the previous timestamp plus 1\n",
    "# Note that we run chronologically down DF\n",
    "# Thus, if there are multiple NaN in a row (not the case), this would be fine\n",
    "for item in inds:\n",
    "    data.loc[item, 'DateTime'] = data.loc[item-1, 'DateTime'] + pd.to_timedelta(1, unit='s')"
   ]
  },
  {
   "cell_type": "markdown",
   "metadata": {},
   "source": [
    "Other missing values could be interpolated, as we might assume that things such as direction and speed might not change drastically from one time point to another. This could be done by taking an average of the n previous and following values and setting it in place of a missing value. This would exclude the Tacking and ModePilote columns as they seem categorical."
   ]
  },
  {
   "cell_type": "code",
   "execution_count": 7,
   "metadata": {},
   "outputs": [],
   "source": [
    "# Interpolating for all other numerical variables\n",
    "# Input mean of previous 5 and following 5 values\n",
    "for col in [item for item in data.columns if item not in ['ModePilote', 'Tacking']]:\n",
    "    inds = pd.isnull(data[col]).to_numpy().nonzero()[0]\n",
    "    for i in inds:\n",
    "           data.loc[i, col] = data.loc[(i-5):(i+5), col].mean()\n",
    "\n",
    "# For categorical variables, we take only the previous value\n",
    "# Trade-off between labels being correct and complete dataset\n",
    "for col in ['ModePilote', 'Tacking']:\n",
    "    inds = pd.isnull(data[col]).to_numpy().nonzero()[0]\n",
    "    for i in inds:\n",
    "           data.loc[i, col] = data.loc[i-1, col].mean()"
   ]
  },
  {
   "cell_type": "code",
   "execution_count": 8,
   "metadata": {},
   "outputs": [],
   "source": [
    "# Scale numeric features\n",
    "numeric_cols = [item for item in data.columns if item not in ['ModePilote', 'Tacking', 'DateTime']]\n",
    "X_numeric = data[numeric_cols]"
   ]
  },
  {
   "cell_type": "code",
   "execution_count": 10,
   "metadata": {},
   "outputs": [
    {
     "name": "stdout",
     "output_type": "stream",
     "text": [
      "CurrentSpeed\n",
      "CurrentDir\n",
      "TWS\n",
      "TWA\n",
      "AWS\n",
      "AWA\n",
      "Roll\n",
      "Pitch\n",
      "HeadingMag\n",
      "HoG\n",
      "HeadingTrue\n",
      "AirTemp\n",
      "Longitude\n",
      " Series is Non-Stationary\n",
      "Latitude\n",
      " Series is Non-Stationary\n",
      "SoG\n",
      "SoS\n",
      "AvgSoS\n",
      "VMG\n",
      "RudderAng\n",
      "Leeway\n",
      "TWD\n",
      "WSoG\n",
      "VoltageDrawn\n",
      "Yaw\n"
     ]
    }
   ],
   "source": [
    "# Check if data is stationary\n",
    "\n",
    "# Augmented Dickey-Fuller Test (ADF Test)/unit root test\n",
    "def adf_test(ts, signif=0.05):\n",
    "    dftest = adfuller(ts, autolag='AIC')\n",
    "    adf = pd.Series(dftest[0:4], index=['Test Statistic','p-value','# Lags','# Observations'])\n",
    "    for key,value in dftest[4].items():\n",
    "       adf['Critical Value (%s)'%key] = value\n",
    "    #print(adf)\n",
    "    \n",
    "    p = adf['p-value']\n",
    "    if p > signif:\n",
    "        print(f'Series is Non-Stationary')\n",
    "\n",
    "# Look at all numerical features\n",
    "for col in X_numeric.columns:\n",
    "    print(col)\n",
    "    adf_test(X_numeric[col])"
   ]
  },
  {
   "cell_type": "code",
   "execution_count": 17,
   "metadata": {},
   "outputs": [
    {
     "name": "stdout",
     "output_type": "stream",
     "text": [
      "CurrentSpeed\n",
      "CurrentDir\n"
     ]
    },
    {
     "name": "stderr",
     "output_type": "stream",
     "text": [
      "/Users/sam/opt/anaconda3/lib/python3.7/site-packages/statsmodels/tsa/stattools.py:1708: InterpolationWarning: p-value is smaller than the indicated p-value\n",
      "  warn(\"p-value is smaller than the indicated p-value\", InterpolationWarning)\n",
      "/Users/sam/opt/anaconda3/lib/python3.7/site-packages/statsmodels/tsa/stattools.py:1708: InterpolationWarning: p-value is smaller than the indicated p-value\n",
      "  warn(\"p-value is smaller than the indicated p-value\", InterpolationWarning)\n",
      "/Users/sam/opt/anaconda3/lib/python3.7/site-packages/statsmodels/tsa/stattools.py:1708: InterpolationWarning: p-value is smaller than the indicated p-value\n",
      "  warn(\"p-value is smaller than the indicated p-value\", InterpolationWarning)\n"
     ]
    },
    {
     "name": "stdout",
     "output_type": "stream",
     "text": [
      "TWS\n",
      "TWA\n"
     ]
    },
    {
     "name": "stderr",
     "output_type": "stream",
     "text": [
      "/Users/sam/opt/anaconda3/lib/python3.7/site-packages/statsmodels/tsa/stattools.py:1708: InterpolationWarning: p-value is smaller than the indicated p-value\n",
      "  warn(\"p-value is smaller than the indicated p-value\", InterpolationWarning)\n",
      "/Users/sam/opt/anaconda3/lib/python3.7/site-packages/statsmodels/tsa/stattools.py:1708: InterpolationWarning: p-value is smaller than the indicated p-value\n",
      "  warn(\"p-value is smaller than the indicated p-value\", InterpolationWarning)\n"
     ]
    },
    {
     "name": "stdout",
     "output_type": "stream",
     "text": [
      "AWS\n",
      "AWA\n"
     ]
    },
    {
     "name": "stderr",
     "output_type": "stream",
     "text": [
      "/Users/sam/opt/anaconda3/lib/python3.7/site-packages/statsmodels/tsa/stattools.py:1708: InterpolationWarning: p-value is smaller than the indicated p-value\n",
      "  warn(\"p-value is smaller than the indicated p-value\", InterpolationWarning)\n",
      "/Users/sam/opt/anaconda3/lib/python3.7/site-packages/statsmodels/tsa/stattools.py:1708: InterpolationWarning: p-value is smaller than the indicated p-value\n",
      "  warn(\"p-value is smaller than the indicated p-value\", InterpolationWarning)\n",
      "/Users/sam/opt/anaconda3/lib/python3.7/site-packages/statsmodels/tsa/stattools.py:1708: InterpolationWarning: p-value is smaller than the indicated p-value\n",
      "  warn(\"p-value is smaller than the indicated p-value\", InterpolationWarning)\n",
      "/Users/sam/opt/anaconda3/lib/python3.7/site-packages/statsmodels/tsa/stattools.py:1708: InterpolationWarning: p-value is smaller than the indicated p-value\n",
      "  warn(\"p-value is smaller than the indicated p-value\", InterpolationWarning)\n"
     ]
    },
    {
     "name": "stdout",
     "output_type": "stream",
     "text": [
      "Roll\n",
      "Pitch\n",
      "HeadingMag\n",
      "HoG\n"
     ]
    },
    {
     "name": "stderr",
     "output_type": "stream",
     "text": [
      "/Users/sam/opt/anaconda3/lib/python3.7/site-packages/statsmodels/tsa/stattools.py:1708: InterpolationWarning: p-value is smaller than the indicated p-value\n",
      "  warn(\"p-value is smaller than the indicated p-value\", InterpolationWarning)\n",
      "/Users/sam/opt/anaconda3/lib/python3.7/site-packages/statsmodels/tsa/stattools.py:1708: InterpolationWarning: p-value is smaller than the indicated p-value\n",
      "  warn(\"p-value is smaller than the indicated p-value\", InterpolationWarning)\n",
      "/Users/sam/opt/anaconda3/lib/python3.7/site-packages/statsmodels/tsa/stattools.py:1708: InterpolationWarning: p-value is smaller than the indicated p-value\n",
      "  warn(\"p-value is smaller than the indicated p-value\", InterpolationWarning)\n",
      "/Users/sam/opt/anaconda3/lib/python3.7/site-packages/statsmodels/tsa/stattools.py:1708: InterpolationWarning: p-value is smaller than the indicated p-value\n",
      "  warn(\"p-value is smaller than the indicated p-value\", InterpolationWarning)\n"
     ]
    },
    {
     "name": "stdout",
     "output_type": "stream",
     "text": [
      "HeadingTrue\n",
      "AirTemp\n",
      "Longitude\n",
      "Latitude\n"
     ]
    },
    {
     "name": "stderr",
     "output_type": "stream",
     "text": [
      "/Users/sam/opt/anaconda3/lib/python3.7/site-packages/statsmodels/tsa/stattools.py:1708: InterpolationWarning: p-value is smaller than the indicated p-value\n",
      "  warn(\"p-value is smaller than the indicated p-value\", InterpolationWarning)\n",
      "/Users/sam/opt/anaconda3/lib/python3.7/site-packages/statsmodels/tsa/stattools.py:1708: InterpolationWarning: p-value is smaller than the indicated p-value\n",
      "  warn(\"p-value is smaller than the indicated p-value\", InterpolationWarning)\n",
      "/Users/sam/opt/anaconda3/lib/python3.7/site-packages/statsmodels/tsa/stattools.py:1708: InterpolationWarning: p-value is smaller than the indicated p-value\n",
      "  warn(\"p-value is smaller than the indicated p-value\", InterpolationWarning)\n",
      "/Users/sam/opt/anaconda3/lib/python3.7/site-packages/statsmodels/tsa/stattools.py:1708: InterpolationWarning: p-value is smaller than the indicated p-value\n",
      "  warn(\"p-value is smaller than the indicated p-value\", InterpolationWarning)\n",
      "/Users/sam/opt/anaconda3/lib/python3.7/site-packages/statsmodels/tsa/stattools.py:1708: InterpolationWarning: p-value is smaller than the indicated p-value\n",
      "  warn(\"p-value is smaller than the indicated p-value\", InterpolationWarning)\n",
      "/Users/sam/opt/anaconda3/lib/python3.7/site-packages/statsmodels/tsa/stattools.py:1708: InterpolationWarning: p-value is smaller than the indicated p-value\n",
      "  warn(\"p-value is smaller than the indicated p-value\", InterpolationWarning)\n",
      "/Users/sam/opt/anaconda3/lib/python3.7/site-packages/statsmodels/tsa/stattools.py:1708: InterpolationWarning: p-value is smaller than the indicated p-value\n",
      "  warn(\"p-value is smaller than the indicated p-value\", InterpolationWarning)\n"
     ]
    },
    {
     "name": "stdout",
     "output_type": "stream",
     "text": [
      "SoG\n",
      "SoS\n",
      "AvgSoS\n",
      "VMG\n",
      "RudderAng\n",
      "Leeway\n",
      "TWD\n",
      "WSoG\n",
      "VoltageDrawn\n",
      "Yaw\n"
     ]
    },
    {
     "name": "stderr",
     "output_type": "stream",
     "text": [
      "/Users/sam/opt/anaconda3/lib/python3.7/site-packages/statsmodels/tsa/stattools.py:1708: InterpolationWarning: p-value is smaller than the indicated p-value\n",
      "  warn(\"p-value is smaller than the indicated p-value\", InterpolationWarning)\n",
      "/Users/sam/opt/anaconda3/lib/python3.7/site-packages/statsmodels/tsa/stattools.py:1708: InterpolationWarning: p-value is smaller than the indicated p-value\n",
      "  warn(\"p-value is smaller than the indicated p-value\", InterpolationWarning)\n",
      "/Users/sam/opt/anaconda3/lib/python3.7/site-packages/statsmodels/tsa/stattools.py:1708: InterpolationWarning: p-value is smaller than the indicated p-value\n",
      "  warn(\"p-value is smaller than the indicated p-value\", InterpolationWarning)\n",
      "/Users/sam/opt/anaconda3/lib/python3.7/site-packages/statsmodels/tsa/stattools.py:1708: InterpolationWarning: p-value is smaller than the indicated p-value\n",
      "  warn(\"p-value is smaller than the indicated p-value\", InterpolationWarning)\n"
     ]
    }
   ],
   "source": [
    "# KPSS\n",
    "def kpss_test(ts):\n",
    "    kpsstest = kpss(ts, regression='c', lags='auto')\n",
    "    kpss_output = pd.Series(kpsstest[0:3], index=['Test Statistic','p-value','Lags Used'])\n",
    "    if kpss_output['p-value'] > .05:\n",
    "        print('Stationary')\n",
    "\n",
    "# Look at all numerical features\n",
    "for col in X_numeric.columns:\n",
    "    print(col)\n",
    "    kpss_test(X_numeric[col])"
   ]
  },
  {
   "cell_type": "markdown",
   "metadata": {},
   "source": [
    "#### RESULTS stationarity\n",
    "- ADF non-stationary: longitude, latitude\n",
    "- KPSS non-stationary: All variables\n",
    "- Longitude & latitude non-stationary\n",
    "- All others difference stationary"
   ]
  },
  {
   "cell_type": "code",
   "execution_count": 9,
   "metadata": {},
   "outputs": [
    {
     "name": "stderr",
     "output_type": "stream",
     "text": [
      "/Users/sam/opt/anaconda3/lib/python3.7/site-packages/ipykernel_launcher.py:3: SettingWithCopyWarning: \n",
      "A value is trying to be set on a copy of a slice from a DataFrame.\n",
      "Try using .loc[row_indexer,col_indexer] = value instead\n",
      "\n",
      "See the caveats in the documentation: https://pandas.pydata.org/pandas-docs/stable/user_guide/indexing.html#returning-a-view-versus-a-copy\n",
      "  This is separate from the ipykernel package so we can avoid doing imports until\n"
     ]
    }
   ],
   "source": [
    "# Difference all numeric variables\n",
    "for col in X_numeric.columns:\n",
    "    X_numeric[col] = X_numeric[col] - X_numeric[col].shift(1)\n",
    "\n",
    "X_numeric = X_numeric.dropna()"
   ]
  },
  {
   "cell_type": "code",
   "execution_count": 10,
   "metadata": {},
   "outputs": [],
   "source": [
    "# Scale numeric features\n",
    "scaled_features = StandardScaler().fit_transform(X_numeric.values)\n",
    "scaled_df = pd.DataFrame(scaled_features, columns=X_numeric.columns)"
   ]
  },
  {
   "cell_type": "code",
   "execution_count": 11,
   "metadata": {},
   "outputs": [
    {
     "name": "stdout",
     "output_type": "stream",
     "text": [
      "[3.70173918 2.92720279 2.71206686 1.89709625 1.64628745 1.28756367\n",
      " 1.0596012  1.00454775 0.99968694 0.98959534 0.98099261 0.96942611\n",
      " 0.92702086 0.77756077 0.61481912 0.49956376]\n"
     ]
    }
   ],
   "source": [
    "# Dimensionality reduction\n",
    "array_x_pca = np.array(scaled_df)\n",
    "\n",
    "# Create the PCA instance\n",
    "pca = PCA(n_components = 0.95)\n",
    "\n",
    "# Fit on data\n",
    "pca.fit(array_x_pca)\n",
    "\n",
    "# Access values and vectors\n",
    "print(pca.explained_variance_)\n",
    "\n",
    "# Transform data\n",
    "smol_scaled = pca.transform(array_x_pca)"
   ]
  },
  {
   "cell_type": "code",
   "execution_count": 12,
   "metadata": {},
   "outputs": [],
   "source": [
    "smol_scaled2 = pd.DataFrame(smol_scaled)"
   ]
  },
  {
   "cell_type": "code",
   "execution_count": 13,
   "metadata": {},
   "outputs": [],
   "source": [
    "# Change ModePilote to 0 and 1\n",
    "data.loc[data['ModePilote'] == 5, 'ModePilote'] = 1\n",
    "data.loc[data['ModePilote'] == 2, 'ModePilote'] = 0"
   ]
  },
  {
   "cell_type": "code",
   "execution_count": 14,
   "metadata": {},
   "outputs": [],
   "source": [
    "# Combined numeric and ModePilote\n",
    "cat_df = data.loc[1:, ['ModePilote', 'Tacking']]\n",
    "cat_df.index = range(219999)\n",
    "full_df = pd.concat([smol_scaled2, cat_df], axis=1, ignore_index=True)"
   ]
  },
  {
   "cell_type": "code",
   "execution_count": 15,
   "metadata": {},
   "outputs": [],
   "source": [
    "# Function from https://machinelearningmastery.com/convert-time-series-supervised-learning-problem-python/\n",
    "\n",
    "def series_to_supervised(data, n_in=1, n_out=1, dropnan=True):\n",
    "\t\"\"\"\n",
    "\tFrame a time series as a supervised learning dataset.\n",
    "\tArguments:\n",
    "\t\tdata: Sequence of observations as a list or NumPy array.\n",
    "\t\tn_in: Number of lag observations as input (X).\n",
    "\t\tn_out: Number of observations as output (y).\n",
    "\t\tdropnan: Boolean whether or not to drop rows with NaN values.\n",
    "\tReturns:\n",
    "\t\tPandas DataFrame of series framed for supervised learning.\n",
    "\t\"\"\"\n",
    "\tn_vars = 1 if type(data) is list else data.shape[1]\n",
    "\tdf = pd.DataFrame(data)\n",
    "\tcols, names = list(), list()\n",
    "\t# input sequence (t-n, ... t-1)\n",
    "\tfor i in range(n_in, 0, -1):\n",
    "\t\tcols.append(df.shift(i))\n",
    "\t\tnames += [('var%d(t-%d)' % (j+1, i)) for j in range(n_vars)]\n",
    "\t# forecast sequence (t, t+1, ... t+n)\n",
    "\tfor i in range(0, n_out):\n",
    "\t\tcols.append(df.shift(-i))\n",
    "\t\tif i == 0:\n",
    "\t\t\tnames += [('var%d(t)' % (j+1)) for j in range(n_vars)]\n",
    "\t\telse:\n",
    "\t\t\tnames += [('var%d(t+%d)' % (j+1, i)) for j in range(n_vars)]\n",
    "\t# put it all together\n",
    "\tagg = pd.concat(cols, axis=1)\n",
    "\tagg.columns = names\n",
    "\t# drop rows with NaN values\n",
    "\tif dropnan:\n",
    "\t\tagg.dropna(inplace=True)\n",
    "\treturn agg\n",
    " "
   ]
  },
  {
   "cell_type": "code",
   "execution_count": 43,
   "metadata": {},
   "outputs": [],
   "source": [
    "# Make supervised df\n",
    "supervised_df = series_to_supervised(full_df.values, 2)"
   ]
  },
  {
   "cell_type": "code",
   "execution_count": 44,
   "metadata": {},
   "outputs": [],
   "source": [
    "# Split into train and test sets\n",
    "values = supervised_df.values\n",
    "n_train_hours = int(round(values.shape[0]*0.7, 0))\n",
    "train = values[:n_train_hours, :]\n",
    "test = values[n_train_hours:, :]\n",
    "\n",
    "# Split into input and outputs\n",
    "X_train, y_train = train[:, :-1], train[:, -1]\n",
    "X_test, y_test = test[:, :-1], test[:, -1]"
   ]
  },
  {
   "cell_type": "markdown",
   "metadata": {},
   "source": [
    "## XGBoost"
   ]
  },
  {
   "cell_type": "code",
   "execution_count": 45,
   "metadata": {},
   "outputs": [
    {
     "data": {
      "text/plain": [
       "XGBClassifier(colsample_bytree=0.8, eta=0.2, gamma=0.1, max_depth=8,\n",
       "              min_child_weight=5, random_state=47, reg_alpha=10,\n",
       "              scale_pos_weight=0.3, subsample=0.8)"
      ]
     },
     "execution_count": 45,
     "metadata": {},
     "output_type": "execute_result"
    }
   ],
   "source": [
    "# Make model\n",
    "xgb_mod = xgb.XGBClassifier(random_state=47, eta=0.2, min_child_weight=5, gamma=0.1,\n",
    "subsample=0.8, colsample_bytree=0.8, max_depth=8, reg_alpha=10, scale_pos_weight=0.3)\n",
    "\n",
    "xgb_mod.fit(X_train, y_train)"
   ]
  },
  {
   "cell_type": "code",
   "execution_count": 46,
   "metadata": {},
   "outputs": [
    {
     "name": "stdout",
     "output_type": "stream",
     "text": [
      "              precision    recall  f1-score   support\n",
      "\n",
      "         0.0       1.00      1.00      1.00     60479\n",
      "         1.0       1.00      1.00      1.00      5520\n",
      "\n",
      "    accuracy                           1.00     65999\n",
      "   macro avg       1.00      1.00      1.00     65999\n",
      "weighted avg       1.00      1.00      1.00     65999\n",
      "\n",
      "0.9999011529573926\n"
     ]
    }
   ],
   "source": [
    "y_pred = xgb_mod.predict(X_test)\n",
    "print(classification_report(y_test, y_pred))\n",
    "print(roc_auc_score(y_test, y_pred))"
   ]
  },
  {
   "cell_type": "markdown",
   "metadata": {},
   "source": [
    "## LSTM"
   ]
  },
  {
   "cell_type": "code",
   "execution_count": 24,
   "metadata": {},
   "outputs": [
    {
     "name": "stdout",
     "output_type": "stream",
     "text": [
      "(153998, 1, 53) (153998,) (65999, 1, 53) (65999,)\n"
     ]
    }
   ],
   "source": [
    "# Reshape input to be 3D [samples, timesteps, features]\n",
    "X_train_nn = X_train.reshape((X_train.shape[0], 1, X_train.shape[1]))\n",
    "X_test_nn = X_test.reshape((X_test.shape[0], 1, X_test.shape[1]))\n",
    "print(X_train_nn.shape, y_train.shape, X_test_nn.shape, y_test.shape)\n"
   ]
  },
  {
   "cell_type": "code",
   "execution_count": 25,
   "metadata": {},
   "outputs": [
    {
     "name": "stdout",
     "output_type": "stream",
     "text": [
      "Train on 153998 samples, validate on 65999 samples\n",
      "Epoch 1/5\n",
      " - 144s - loss: 0.0898 - val_loss: 0.0137\n",
      "Epoch 2/5\n",
      " - 90s - loss: 0.0085 - val_loss: 0.0026\n",
      "Epoch 3/5\n",
      " - 100s - loss: 0.0020 - val_loss: 0.0012\n",
      "Epoch 4/5\n",
      " - 115s - loss: 0.0013 - val_loss: 7.1605e-04\n",
      "Epoch 5/5\n",
      " - 55s - loss: 0.0010 - val_loss: 5.4979e-04\n"
     ]
    }
   ],
   "source": [
    "# Build network\n",
    "model = Sequential()\n",
    "model.add(LSTM(50, input_shape=(X_train_nn.shape[1], X_train_nn.shape[2])))\n",
    "model.add(Dense(1, activation='sigmoid'))\n",
    "model.compile(loss='binary_crossentropy', optimizer='adam')\n",
    "\n",
    "# Fit network\n",
    "history = model.fit(X_train_nn, y_train, epochs=5, batch_size=72, validation_data=(X_test, y_test), verbose=2, shuffle=False)"
   ]
  },
  {
   "cell_type": "code",
   "execution_count": 26,
   "metadata": {},
   "outputs": [
    {
     "data": {
      "text/plain": [
       "array([[1.4722347e-04],\n",
       "       [6.0707331e-05],\n",
       "       [1.1425614e-03],\n",
       "       [6.5714121e-05],\n",
       "       [1.5813112e-04],\n",
       "       [3.2490492e-04],\n",
       "       [6.1988831e-05],\n",
       "       [8.4131956e-05],\n",
       "       [4.5657158e-05],\n",
       "       [1.0409951e-04]], dtype=float32)"
      ]
     },
     "execution_count": 26,
     "metadata": {},
     "output_type": "execute_result"
    }
   ],
   "source": [
    "# make a prediction\n",
    "y_pred = model.predict(X_test)"
   ]
  },
  {
   "cell_type": "code",
   "execution_count": 33,
   "metadata": {},
   "outputs": [
    {
     "name": "stdout",
     "output_type": "stream",
     "text": [
      "              precision    recall  f1-score   support\n",
      "\n",
      "         0.0       1.00      1.00      1.00     60479\n",
      "         1.0       1.00      1.00      1.00      5520\n",
      "\n",
      "    accuracy                           1.00     65999\n",
      "   macro avg       1.00      1.00      1.00     65999\n",
      "weighted avg       1.00      1.00      1.00     65999\n",
      "\n",
      "0.9997609692524726\n"
     ]
    }
   ],
   "source": [
    "y_pred_bin = [1 if item > 0.5 else 0 for item in y_pred]\n",
    "print(classification_report(y_test, y_pred_bin))\n",
    "print(roc_auc_score(y_test, y_pred_bin))"
   ]
  },
  {
   "cell_type": "code",
   "execution_count": null,
   "metadata": {},
   "outputs": [],
   "source": []
  },
  {
   "cell_type": "code",
   "execution_count": null,
   "metadata": {},
   "outputs": [],
   "source": [
    "# Choose forecasting horizon (e.g. 15-30s)\n",
    "forecasting_horizon = 15\n",
    "\n",
    "# This is only if we use all data to predict final bit\n",
    "# Look into rolling prediction and evaluation\n",
    "train = data.head(-forecasting_horizon).copy()\n",
    "y_valid = data.tail(forecasting_horizon)['y']\n",
    "\n",
    "# Include lags in dataset (could be more/less/different)\n",
    "train['lag-15'] = train['y'].shift(15)\n",
    "train['lag-30'] = train['y'].shift(30)\n",
    "\n",
    "# drop NAs\n",
    "train_without_nulls = train.dropna()\n",
    "X_train = train_without_nulls.drop(columns='y')\n",
    "y_train = train_without_nulls['y']"
   ]
  },
  {
   "cell_type": "code",
   "execution_count": null,
   "metadata": {},
   "outputs": [],
   "source": []
  },
  {
   "cell_type": "code",
   "execution_count": null,
   "metadata": {},
   "outputs": [],
   "source": [
    "# VAR model\n",
    "model = VAR(endog=train)"
   ]
  },
  {
   "cell_type": "code",
   "execution_count": null,
   "metadata": {},
   "outputs": [],
   "source": [
    "# XGBoost\n",
    "\n",
    "# Walk-forward evaluation"
   ]
  }
 ],
 "metadata": {
  "interpreter": {
   "hash": "3418417383af331fcbc8316060ae8874514fff1df7fef283aa38a0cc727c6ead"
  },
  "kernelspec": {
   "display_name": "Python 3.7.4 64-bit ('base': conda)",
   "language": "python",
   "name": "python3"
  },
  "language_info": {
   "codemirror_mode": {
    "name": "ipython",
    "version": 3
   },
   "file_extension": ".py",
   "mimetype": "text/x-python",
   "name": "python",
   "nbconvert_exporter": "python",
   "pygments_lexer": "ipython3",
   "version": "3.7.11"
  },
  "orig_nbformat": 4
 },
 "nbformat": 4,
 "nbformat_minor": 2
}
