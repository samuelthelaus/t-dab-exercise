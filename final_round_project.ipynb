{
 "cells": [
  {
   "cell_type": "markdown",
   "metadata": {},
   "source": [
    "# The Data Analysis Bureau Exercise"
   ]
  },
  {
   "cell_type": "code",
   "execution_count": 92,
   "metadata": {},
   "outputs": [],
   "source": [
    "import json\n",
    "import pandas as pd\n",
    "import numpy as np\n",
    "import matplotlib.pyplot as plt\n",
    "import seaborn as sns\n",
    "\n",
    "from statsmodels.tsa.stattools import adfuller, kpss\n",
    "from sklearn.model_selection import GridSearchCV\n",
    "from sklearn.preprocessing import StandardScaler\n",
    "from sklearn.decomposition import PCA\n",
    "from sklearn.neighbors import KNeighborsClassifier\n",
    "from sklearn.discriminant_analysis import LinearDiscriminantAnalysis, QuadraticDiscriminantAnalysis\n",
    "from sklearn.svm import SVC\n",
    "import xgboost as xgb\n",
    "from sklearn.metrics import classification_report, roc_auc_score, r2_score, accuracy_score"
   ]
  },
  {
   "cell_type": "markdown",
   "metadata": {},
   "source": [
    "## Data import and inspection"
   ]
  },
  {
   "cell_type": "code",
   "execution_count": 8,
   "metadata": {},
   "outputs": [],
   "source": [
    "# Open JSON file and assign to dict\n",
    "f = open('C:/Users/samue/Documents/DS 2021 Exercise/data_dict.json')\n",
    "data_dict = json.load(f)\n",
    "f.close()"
   ]
  },
  {
   "cell_type": "code",
   "execution_count": 9,
   "metadata": {},
   "outputs": [
    {
     "name": "stdout",
     "output_type": "stream",
     "text": [
      "{'name': 'CurrentSpeed', 'units': 'knots', 'range': None, 'description': ' '}\n",
      "{'name': 'CurrentDir', 'units': 'degrees', 'range': None, 'description': ' '}\n",
      "{'name': 'TWS', 'units': 'knots', 'range': None, 'description': 'True Wind Speed'}\n",
      "{'name': 'TWA', 'units': 'degrees', 'range': None, 'description': 'True Wind Angle'}\n",
      "{'name': 'AWS', 'units': 'knots', 'range': None, 'description': 'Apparent Wind Speed'}\n",
      "{'name': 'AWA', 'units': 'degrees', 'range': None, 'description': 'Apparent Wind Angle'}\n",
      "{'name': 'Roll', 'units': 'degrees', 'range': None, 'description': 'Roll, also equals to -Heel'}\n",
      "{'name': 'Pitch', 'units': 'degrees', 'range': None, 'description': 'Pitch angle'}\n",
      "{'name': 'HeadingMag', 'units': 'degrees', 'range': None, 'description': 'magnetic heading'}\n",
      "{'name': 'HoG', 'units': 'degrees', 'range': None, 'description': 'heading over ground'}\n",
      "{'name': 'HeadingTrue', 'units': 'degrees', 'range': None, 'description': 'true heading. True heading - heading over ground = Yaw'}\n",
      "{'name': 'AirTemp', 'units': 'degrees Celcius', 'range': None, 'description': 'air temperature'}\n",
      "{'name': 'Longitude', 'units': 'degrees', 'range': '[0, 360]', 'description': 'Longitudinal coordinate'}\n",
      "{'name': 'LonDecMin', 'units': 'minutes of angle', 'range': '', 'description': 'Decimals of the longitude minutes'}\n",
      "{'name': 'Latitude', 'units': 'degrees', 'range': '[0, 360]', 'description': 'Latitudinal coordinate'}\n",
      "{'name': 'LatDecMin', 'units': 'minutes of angle', 'range': '', 'description': 'Decimals of the latitude minutes'}\n",
      "{'name': 'SoG', 'units': 'knots', 'range': None, 'description': 'Speed over ground'}\n",
      "{'name': 'SoS', 'units': 'knots', 'range': None, 'description': 'Speed over surface'}\n",
      "{'name': 'AvgSoS', 'units': 'knots', 'range': None, 'description': 'Average speed over surface'}\n",
      "{'name': 'VMG', 'units': 'knots', 'range': None, 'description': 'Velocity made good. Calculated as Speed over surface * cos(True Wind angle)'}\n",
      "{'name': 'RudderAng', 'units': 'degrees', 'range': None, 'description': 'Rudder angle'}\n",
      "{'name': 'Leeway', 'units': 'degrees', 'range': None, 'description': ' '}\n",
      "{'name': 'TWD', 'units': 'degrees', 'range': None, 'description': 'True wind direction'}\n",
      "{'name': 'WSoG', 'units': 'knots', 'range': None, 'description': 'Wind speed over ground'}\n",
      "{'name': 'VoltageDrawn', 'units': 'Volts', 'range': None, 'description': 'Voltage drawn by the system of one of its parts'}\n",
      "{'name': 'ModePilote', 'units': 'unclear', 'range': 'unclear', 'description': 'unclear'}\n"
     ]
    }
   ],
   "source": [
    "# Print line-by-line to fit everything\n",
    "for key in data_dict.keys():\n",
    "    print(data_dict[key])"
   ]
  },
  {
   "cell_type": "code",
   "execution_count": 2,
   "metadata": {},
   "outputs": [
    {
     "data": {
      "text/html": [
       "<div>\n",
       "<style scoped>\n",
       "    .dataframe tbody tr th:only-of-type {\n",
       "        vertical-align: middle;\n",
       "    }\n",
       "\n",
       "    .dataframe tbody tr th {\n",
       "        vertical-align: top;\n",
       "    }\n",
       "\n",
       "    .dataframe thead th {\n",
       "        text-align: right;\n",
       "    }\n",
       "</style>\n",
       "<table border=\"1\" class=\"dataframe\">\n",
       "  <thead>\n",
       "    <tr style=\"text-align: right;\">\n",
       "      <th></th>\n",
       "      <th>CurrentSpeed</th>\n",
       "      <th>CurrentDir</th>\n",
       "      <th>TWS</th>\n",
       "      <th>TWA</th>\n",
       "      <th>AWS</th>\n",
       "      <th>AWA</th>\n",
       "      <th>Roll</th>\n",
       "      <th>Pitch</th>\n",
       "      <th>HeadingMag</th>\n",
       "      <th>HoG</th>\n",
       "      <th>...</th>\n",
       "      <th>VMG</th>\n",
       "      <th>RudderAng</th>\n",
       "      <th>Leeway</th>\n",
       "      <th>TWD</th>\n",
       "      <th>WSoG</th>\n",
       "      <th>VoltageDrawn</th>\n",
       "      <th>ModePilote</th>\n",
       "      <th>DateTime</th>\n",
       "      <th>Yaw</th>\n",
       "      <th>Tacking</th>\n",
       "    </tr>\n",
       "  </thead>\n",
       "  <tbody>\n",
       "    <tr>\n",
       "      <th>0</th>\n",
       "      <td>0.0756</td>\n",
       "      <td>123.0</td>\n",
       "      <td>10.8</td>\n",
       "      <td>48.0</td>\n",
       "      <td>10.4</td>\n",
       "      <td>48.0</td>\n",
       "      <td>-3.54</td>\n",
       "      <td>9.080000</td>\n",
       "      <td>24.0</td>\n",
       "      <td>308.0</td>\n",
       "      <td>...</td>\n",
       "      <td>0.0594</td>\n",
       "      <td>4.666667</td>\n",
       "      <td>0.0</td>\n",
       "      <td>356.0</td>\n",
       "      <td>10.5</td>\n",
       "      <td>11.8</td>\n",
       "      <td>5.0</td>\n",
       "      <td>2019-04-14 00:00:00.000</td>\n",
       "      <td>-299.0</td>\n",
       "      <td>1.0</td>\n",
       "    </tr>\n",
       "    <tr>\n",
       "      <th>1</th>\n",
       "      <td>0.0756</td>\n",
       "      <td>123.0</td>\n",
       "      <td>10.8</td>\n",
       "      <td>48.0</td>\n",
       "      <td>10.4</td>\n",
       "      <td>48.0</td>\n",
       "      <td>-3.54</td>\n",
       "      <td>9.080000</td>\n",
       "      <td>24.0</td>\n",
       "      <td>308.0</td>\n",
       "      <td>...</td>\n",
       "      <td>0.0594</td>\n",
       "      <td>4.666667</td>\n",
       "      <td>0.0</td>\n",
       "      <td>356.0</td>\n",
       "      <td>10.5</td>\n",
       "      <td>11.8</td>\n",
       "      <td>5.0</td>\n",
       "      <td>2019-04-14 00:00:01.000</td>\n",
       "      <td>-299.0</td>\n",
       "      <td>1.0</td>\n",
       "    </tr>\n",
       "    <tr>\n",
       "      <th>2</th>\n",
       "      <td>0.0756</td>\n",
       "      <td>123.0</td>\n",
       "      <td>10.8</td>\n",
       "      <td>48.0</td>\n",
       "      <td>10.4</td>\n",
       "      <td>48.0</td>\n",
       "      <td>-3.52</td>\n",
       "      <td>9.099999</td>\n",
       "      <td>24.0</td>\n",
       "      <td>308.0</td>\n",
       "      <td>...</td>\n",
       "      <td>0.0594</td>\n",
       "      <td>4.666667</td>\n",
       "      <td>0.0</td>\n",
       "      <td>356.0</td>\n",
       "      <td>9.9</td>\n",
       "      <td>11.8</td>\n",
       "      <td>5.0</td>\n",
       "      <td>2019-04-14 00:00:02.000</td>\n",
       "      <td>-299.0</td>\n",
       "      <td>1.0</td>\n",
       "    </tr>\n",
       "    <tr>\n",
       "      <th>3</th>\n",
       "      <td>0.0756</td>\n",
       "      <td>123.0</td>\n",
       "      <td>10.8</td>\n",
       "      <td>48.0</td>\n",
       "      <td>10.4</td>\n",
       "      <td>48.0</td>\n",
       "      <td>-3.52</td>\n",
       "      <td>9.099999</td>\n",
       "      <td>24.0</td>\n",
       "      <td>308.0</td>\n",
       "      <td>...</td>\n",
       "      <td>0.0594</td>\n",
       "      <td>4.666667</td>\n",
       "      <td>0.0</td>\n",
       "      <td>356.0</td>\n",
       "      <td>9.9</td>\n",
       "      <td>11.8</td>\n",
       "      <td>5.0</td>\n",
       "      <td>2019-04-14 00:00:03.000</td>\n",
       "      <td>-299.0</td>\n",
       "      <td>1.0</td>\n",
       "    </tr>\n",
       "    <tr>\n",
       "      <th>4</th>\n",
       "      <td>0.0756</td>\n",
       "      <td>123.0</td>\n",
       "      <td>10.8</td>\n",
       "      <td>48.0</td>\n",
       "      <td>10.4</td>\n",
       "      <td>48.0</td>\n",
       "      <td>-3.50</td>\n",
       "      <td>9.099999</td>\n",
       "      <td>24.0</td>\n",
       "      <td>308.0</td>\n",
       "      <td>...</td>\n",
       "      <td>0.0594</td>\n",
       "      <td>4.666667</td>\n",
       "      <td>0.0</td>\n",
       "      <td>356.0</td>\n",
       "      <td>10.3</td>\n",
       "      <td>11.8</td>\n",
       "      <td>5.0</td>\n",
       "      <td>2019-04-14 00:00:04.000</td>\n",
       "      <td>-299.0</td>\n",
       "      <td>1.0</td>\n",
       "    </tr>\n",
       "  </tbody>\n",
       "</table>\n",
       "<p>5 rows × 27 columns</p>\n",
       "</div>"
      ],
      "text/plain": [
       "   CurrentSpeed  CurrentDir   TWS   TWA   AWS   AWA  Roll     Pitch  \\\n",
       "0        0.0756       123.0  10.8  48.0  10.4  48.0 -3.54  9.080000   \n",
       "1        0.0756       123.0  10.8  48.0  10.4  48.0 -3.54  9.080000   \n",
       "2        0.0756       123.0  10.8  48.0  10.4  48.0 -3.52  9.099999   \n",
       "3        0.0756       123.0  10.8  48.0  10.4  48.0 -3.52  9.099999   \n",
       "4        0.0756       123.0  10.8  48.0  10.4  48.0 -3.50  9.099999   \n",
       "\n",
       "   HeadingMag    HoG  ...     VMG  RudderAng  Leeway    TWD  WSoG  \\\n",
       "0        24.0  308.0  ...  0.0594   4.666667     0.0  356.0  10.5   \n",
       "1        24.0  308.0  ...  0.0594   4.666667     0.0  356.0  10.5   \n",
       "2        24.0  308.0  ...  0.0594   4.666667     0.0  356.0   9.9   \n",
       "3        24.0  308.0  ...  0.0594   4.666667     0.0  356.0   9.9   \n",
       "4        24.0  308.0  ...  0.0594   4.666667     0.0  356.0  10.3   \n",
       "\n",
       "   VoltageDrawn  ModePilote                 DateTime    Yaw  Tacking  \n",
       "0          11.8         5.0  2019-04-14 00:00:00.000 -299.0      1.0  \n",
       "1          11.8         5.0  2019-04-14 00:00:01.000 -299.0      1.0  \n",
       "2          11.8         5.0  2019-04-14 00:00:02.000 -299.0      1.0  \n",
       "3          11.8         5.0  2019-04-14 00:00:03.000 -299.0      1.0  \n",
       "4          11.8         5.0  2019-04-14 00:00:04.000 -299.0      1.0  \n",
       "\n",
       "[5 rows x 27 columns]"
      ]
     },
     "execution_count": 2,
     "metadata": {},
     "output_type": "execute_result"
    }
   ],
   "source": [
    "# Import data and inspect top\n",
    "data = pd.read_csv('C:/Users/samue/Documents/test_data.csv')\n",
    "data.head()"
   ]
  },
  {
   "cell_type": "code",
   "execution_count": 3,
   "metadata": {},
   "outputs": [],
   "source": [
    "# Convert date to DT\n",
    "data['DateTime'] = pd.to_datetime(data['DateTime'])"
   ]
  },
  {
   "cell_type": "code",
   "execution_count": 11,
   "metadata": {},
   "outputs": [
    {
     "name": "stdout",
     "output_type": "stream",
     "text": [
      "<class 'pandas.core.frame.DataFrame'>\n",
      "RangeIndex: 220000 entries, 0 to 219999\n",
      "Data columns (total 27 columns):\n",
      " #   Column        Non-Null Count   Dtype         \n",
      "---  ------        --------------   -----         \n",
      " 0   CurrentSpeed  219833 non-null  float64       \n",
      " 1   CurrentDir    219832 non-null  float64       \n",
      " 2   TWS           219837 non-null  float64       \n",
      " 3   TWA           219833 non-null  float64       \n",
      " 4   AWS           219834 non-null  float64       \n",
      " 5   AWA           219838 non-null  float64       \n",
      " 6   Roll          219833 non-null  float64       \n",
      " 7   Pitch         219836 non-null  float64       \n",
      " 8   HeadingMag    219835 non-null  float64       \n",
      " 9   HoG           219838 non-null  float64       \n",
      " 10  HeadingTrue   219837 non-null  float64       \n",
      " 11  AirTemp       219840 non-null  float64       \n",
      " 12  Longitude     219836 non-null  float64       \n",
      " 13  Latitude      219840 non-null  float64       \n",
      " 14  SoG           219842 non-null  float64       \n",
      " 15  SoS           219840 non-null  float64       \n",
      " 16  AvgSoS        219838 non-null  float64       \n",
      " 17  VMG           219837 non-null  float64       \n",
      " 18  RudderAng     219838 non-null  float64       \n",
      " 19  Leeway        219839 non-null  float64       \n",
      " 20  TWD           219838 non-null  float64       \n",
      " 21  WSoG          219836 non-null  float64       \n",
      " 22  VoltageDrawn  219839 non-null  float64       \n",
      " 23  ModePilote    219839 non-null  float64       \n",
      " 24  DateTime      219995 non-null  datetime64[ns]\n",
      " 25  Yaw           219834 non-null  float64       \n",
      " 26  Tacking       219995 non-null  float64       \n",
      "dtypes: datetime64[ns](1), float64(26)\n",
      "memory usage: 45.3 MB\n"
     ]
    }
   ],
   "source": [
    "# Check column types\n",
    "data.info()"
   ]
  },
  {
   "cell_type": "code",
   "execution_count": 20,
   "metadata": {},
   "outputs": [
    {
     "data": {
      "text/html": [
       "<div>\n",
       "<style scoped>\n",
       "    .dataframe tbody tr th:only-of-type {\n",
       "        vertical-align: middle;\n",
       "    }\n",
       "\n",
       "    .dataframe tbody tr th {\n",
       "        vertical-align: top;\n",
       "    }\n",
       "\n",
       "    .dataframe thead th {\n",
       "        text-align: right;\n",
       "    }\n",
       "</style>\n",
       "<table border=\"1\" class=\"dataframe\">\n",
       "  <thead>\n",
       "    <tr style=\"text-align: right;\">\n",
       "      <th></th>\n",
       "      <th>Longitude</th>\n",
       "      <th>Latitude</th>\n",
       "      <th>SoG</th>\n",
       "      <th>SoS</th>\n",
       "      <th>AvgSoS</th>\n",
       "      <th>VMG</th>\n",
       "      <th>RudderAng</th>\n",
       "      <th>Leeway</th>\n",
       "      <th>TWD</th>\n",
       "      <th>WSoG</th>\n",
       "      <th>VoltageDrawn</th>\n",
       "      <th>ModePilote</th>\n",
       "      <th>Yaw</th>\n",
       "      <th>Tacking</th>\n",
       "    </tr>\n",
       "  </thead>\n",
       "  <tbody>\n",
       "    <tr>\n",
       "      <td>count</td>\n",
       "      <td>219836.000000</td>\n",
       "      <td>219840.000000</td>\n",
       "      <td>219842.000000</td>\n",
       "      <td>219840.000000</td>\n",
       "      <td>219838.000000</td>\n",
       "      <td>219837.000000</td>\n",
       "      <td>219838.000000</td>\n",
       "      <td>219839.000000</td>\n",
       "      <td>219838.000000</td>\n",
       "      <td>219836.000000</td>\n",
       "      <td>219839.000000</td>\n",
       "      <td>219839.000000</td>\n",
       "      <td>219834.000000</td>\n",
       "      <td>219995.000000</td>\n",
       "    </tr>\n",
       "    <tr>\n",
       "      <td>mean</td>\n",
       "      <td>-60.675999</td>\n",
       "      <td>16.805625</td>\n",
       "      <td>7.658572</td>\n",
       "      <td>7.607856</td>\n",
       "      <td>6.382535</td>\n",
       "      <td>4.109238</td>\n",
       "      <td>2.025093</td>\n",
       "      <td>-1.226548</td>\n",
       "      <td>83.323893</td>\n",
       "      <td>14.746686</td>\n",
       "      <td>12.417475</td>\n",
       "      <td>2.422614</td>\n",
       "      <td>5.595763</td>\n",
       "      <td>0.209273</td>\n",
       "    </tr>\n",
       "    <tr>\n",
       "      <td>std</td>\n",
       "      <td>0.982475</td>\n",
       "      <td>3.929849</td>\n",
       "      <td>3.075285</td>\n",
       "      <td>3.084592</td>\n",
       "      <td>2.903147</td>\n",
       "      <td>2.066419</td>\n",
       "      <td>4.963518</td>\n",
       "      <td>0.793367</td>\n",
       "      <td>53.810225</td>\n",
       "      <td>4.291340</td>\n",
       "      <td>0.570748</td>\n",
       "      <td>1.043669</td>\n",
       "      <td>140.521400</td>\n",
       "      <td>0.406791</td>\n",
       "    </tr>\n",
       "    <tr>\n",
       "      <td>min</td>\n",
       "      <td>-61.816873</td>\n",
       "      <td>11.971172</td>\n",
       "      <td>0.005400</td>\n",
       "      <td>0.000000</td>\n",
       "      <td>0.070200</td>\n",
       "      <td>0.000000</td>\n",
       "      <td>-37.333336</td>\n",
       "      <td>-10.000000</td>\n",
       "      <td>0.000000</td>\n",
       "      <td>0.000000</td>\n",
       "      <td>11.100000</td>\n",
       "      <td>2.000000</td>\n",
       "      <td>-359.000000</td>\n",
       "      <td>0.000000</td>\n",
       "    </tr>\n",
       "    <tr>\n",
       "      <td>25%</td>\n",
       "      <td>-61.639917</td>\n",
       "      <td>12.913855</td>\n",
       "      <td>7.684200</td>\n",
       "      <td>7.597800</td>\n",
       "      <td>5.637600</td>\n",
       "      <td>3.148200</td>\n",
       "      <td>-0.666667</td>\n",
       "      <td>-2.000000</td>\n",
       "      <td>61.000000</td>\n",
       "      <td>11.800000</td>\n",
       "      <td>12.100000</td>\n",
       "      <td>2.000000</td>\n",
       "      <td>-13.000000</td>\n",
       "      <td>0.000000</td>\n",
       "    </tr>\n",
       "    <tr>\n",
       "      <td>50%</td>\n",
       "      <td>-61.199546</td>\n",
       "      <td>15.232683</td>\n",
       "      <td>8.726400</td>\n",
       "      <td>8.699400</td>\n",
       "      <td>7.581600</td>\n",
       "      <td>4.579200</td>\n",
       "      <td>2.333333</td>\n",
       "      <td>-1.000000</td>\n",
       "      <td>70.000000</td>\n",
       "      <td>14.800000</td>\n",
       "      <td>12.300000</td>\n",
       "      <td>2.000000</td>\n",
       "      <td>-6.000000</td>\n",
       "      <td>0.000000</td>\n",
       "    </tr>\n",
       "    <tr>\n",
       "      <td>75%</td>\n",
       "      <td>-59.735390</td>\n",
       "      <td>20.902214</td>\n",
       "      <td>9.369000</td>\n",
       "      <td>9.298800</td>\n",
       "      <td>8.461801</td>\n",
       "      <td>5.583600</td>\n",
       "      <td>4.666667</td>\n",
       "      <td>-1.000000</td>\n",
       "      <td>82.000000</td>\n",
       "      <td>17.600000</td>\n",
       "      <td>12.500000</td>\n",
       "      <td>2.000000</td>\n",
       "      <td>-1.000000</td>\n",
       "      <td>0.000000</td>\n",
       "    </tr>\n",
       "    <tr>\n",
       "      <td>max</td>\n",
       "      <td>-59.279375</td>\n",
       "      <td>22.209945</td>\n",
       "      <td>12.598201</td>\n",
       "      <td>12.700800</td>\n",
       "      <td>8.532001</td>\n",
       "      <td>9.860400</td>\n",
       "      <td>47.000000</td>\n",
       "      <td>9.000000</td>\n",
       "      <td>359.000000</td>\n",
       "      <td>35.700001</td>\n",
       "      <td>14.200000</td>\n",
       "      <td>5.000000</td>\n",
       "      <td>359.000000</td>\n",
       "      <td>1.000000</td>\n",
       "    </tr>\n",
       "  </tbody>\n",
       "</table>\n",
       "</div>"
      ],
      "text/plain": [
       "           Longitude       Latitude            SoG            SoS  \\\n",
       "count  219836.000000  219840.000000  219842.000000  219840.000000   \n",
       "mean      -60.675999      16.805625       7.658572       7.607856   \n",
       "std         0.982475       3.929849       3.075285       3.084592   \n",
       "min       -61.816873      11.971172       0.005400       0.000000   \n",
       "25%       -61.639917      12.913855       7.684200       7.597800   \n",
       "50%       -61.199546      15.232683       8.726400       8.699400   \n",
       "75%       -59.735390      20.902214       9.369000       9.298800   \n",
       "max       -59.279375      22.209945      12.598201      12.700800   \n",
       "\n",
       "              AvgSoS            VMG      RudderAng         Leeway  \\\n",
       "count  219838.000000  219837.000000  219838.000000  219839.000000   \n",
       "mean        6.382535       4.109238       2.025093      -1.226548   \n",
       "std         2.903147       2.066419       4.963518       0.793367   \n",
       "min         0.070200       0.000000     -37.333336     -10.000000   \n",
       "25%         5.637600       3.148200      -0.666667      -2.000000   \n",
       "50%         7.581600       4.579200       2.333333      -1.000000   \n",
       "75%         8.461801       5.583600       4.666667      -1.000000   \n",
       "max         8.532001       9.860400      47.000000       9.000000   \n",
       "\n",
       "                 TWD           WSoG   VoltageDrawn     ModePilote  \\\n",
       "count  219838.000000  219836.000000  219839.000000  219839.000000   \n",
       "mean       83.323893      14.746686      12.417475       2.422614   \n",
       "std        53.810225       4.291340       0.570748       1.043669   \n",
       "min         0.000000       0.000000      11.100000       2.000000   \n",
       "25%        61.000000      11.800000      12.100000       2.000000   \n",
       "50%        70.000000      14.800000      12.300000       2.000000   \n",
       "75%        82.000000      17.600000      12.500000       2.000000   \n",
       "max       359.000000      35.700001      14.200000       5.000000   \n",
       "\n",
       "                 Yaw        Tacking  \n",
       "count  219834.000000  219995.000000  \n",
       "mean        5.595763       0.209273  \n",
       "std       140.521400       0.406791  \n",
       "min      -359.000000       0.000000  \n",
       "25%       -13.000000       0.000000  \n",
       "50%        -6.000000       0.000000  \n",
       "75%        -1.000000       0.000000  \n",
       "max       359.000000       1.000000  "
      ]
     },
     "execution_count": 20,
     "metadata": {},
     "output_type": "execute_result"
    }
   ],
   "source": [
    "# Describe numerical data\n",
    "data.iloc[:,12:].describe()"
   ]
  },
  {
   "cell_type": "code",
   "execution_count": 22,
   "metadata": {},
   "outputs": [
    {
     "name": "stdout",
     "output_type": "stream",
     "text": [
      "CurrentSpeed: 0\n",
      "CurrentDir: 0\n",
      "TWS: 0\n",
      "TWA: 0\n",
      "AWS: 0\n",
      "AWA: 0\n",
      "Roll: 0\n",
      "Pitch: 0\n",
      "HeadingMag: 0\n",
      "HoG: 0\n",
      "HeadingTrue: 0\n",
      "AirTemp: 0\n",
      "Longitude: 0\n",
      "Latitude: 0\n",
      "SoG: 0\n",
      "SoS: 0\n",
      "AvgSoS: 0\n",
      "VMG: 0\n",
      "RudderAng: 0\n",
      "Leeway: 0\n",
      "TWD: 0\n",
      "WSoG: 0\n",
      "VoltageDrawn: 0\n",
      "ModePilote: 0\n",
      "DateTime: 0\n",
      "Yaw: 0\n",
      "Tacking: 0\n"
     ]
    }
   ],
   "source": [
    "for col in data.columns:\n",
    "    print(f'{col}: {data[col].isna().sum()}')"
   ]
  },
  {
   "cell_type": "code",
   "execution_count": 4,
   "metadata": {},
   "outputs": [
    {
     "data": {
      "text/plain": [
       "Int64Index([     0,  39959,  39960,  81738,  81739,  82751,  82752,  91468,\n",
       "             91469, 121548, 121549, 200000],\n",
       "           dtype='int64')"
      ]
     },
     "execution_count": 4,
     "metadata": {},
     "output_type": "execute_result"
    }
   ],
   "source": [
    "# Check which rows do not have a timestep of 1\n",
    "# All are NAs except for 200,000\n",
    "data.index[data['DateTime'] - data['DateTime'].shift(1) != pd.to_timedelta(1, unit='s')]"
   ]
  },
  {
   "cell_type": "code",
   "execution_count": null,
   "metadata": {},
   "outputs": [],
   "source": [
    "# Seems like 200,000 is repeat as time goes \"back\"\n",
    "# Previous same time is 180,000\n",
    "# First we check how many rows are duplicates\n",
    "# We get 20,000 (suspiciously this is 2x20,000)\n",
    "data[data.duplicated(keep=False)].shape"
   ]
  },
  {
   "cell_type": "code",
   "execution_count": 55,
   "metadata": {},
   "outputs": [
    {
     "data": {
      "text/plain": [
       "Int64Index([180000, 180001, 180002, 180003, 180004, 180005, 180006, 180007,\n",
       "            180008, 180009,\n",
       "            ...\n",
       "            219990, 219991, 219992, 219993, 219994, 219995, 219996, 219997,\n",
       "            219998, 219999],\n",
       "           dtype='int64', length=40000)"
      ]
     },
     "execution_count": 55,
     "metadata": {},
     "output_type": "execute_result"
    }
   ],
   "source": [
    "# Index starts at 180,000 and ends at the end of the DF\n",
    "# It seems very likely that the last 20k rows are duplicates\n",
    "# We can also double check by printing some rows and checking to see if they'er the same\n",
    "data[data.duplicated(keep=False)].index"
   ]
  },
  {
   "cell_type": "code",
   "execution_count": 5,
   "metadata": {},
   "outputs": [],
   "source": [
    "# We remove the last 20k rows\n",
    "data = data.iloc[:200000,:]"
   ]
  },
  {
   "cell_type": "code",
   "execution_count": 75,
   "metadata": {},
   "outputs": [
    {
     "data": {
      "text/html": [
       "<div>\n",
       "<style scoped>\n",
       "    .dataframe tbody tr th:only-of-type {\n",
       "        vertical-align: middle;\n",
       "    }\n",
       "\n",
       "    .dataframe tbody tr th {\n",
       "        vertical-align: top;\n",
       "    }\n",
       "\n",
       "    .dataframe thead th {\n",
       "        text-align: right;\n",
       "    }\n",
       "</style>\n",
       "<table border=\"1\" class=\"dataframe\">\n",
       "  <thead>\n",
       "    <tr style=\"text-align: right;\">\n",
       "      <th></th>\n",
       "      <th>CurrentSpeed</th>\n",
       "      <th>CurrentDir</th>\n",
       "      <th>TWS</th>\n",
       "      <th>TWA</th>\n",
       "      <th>AWS</th>\n",
       "      <th>AWA</th>\n",
       "      <th>Roll</th>\n",
       "      <th>Pitch</th>\n",
       "      <th>HeadingMag</th>\n",
       "      <th>HoG</th>\n",
       "      <th>...</th>\n",
       "      <th>SoS</th>\n",
       "      <th>AvgSoS</th>\n",
       "      <th>VMG</th>\n",
       "      <th>RudderAng</th>\n",
       "      <th>Leeway</th>\n",
       "      <th>TWD</th>\n",
       "      <th>WSoG</th>\n",
       "      <th>VoltageDrawn</th>\n",
       "      <th>Yaw</th>\n",
       "      <th>Tacking</th>\n",
       "    </tr>\n",
       "    <tr>\n",
       "      <th>ModePilote</th>\n",
       "      <th></th>\n",
       "      <th></th>\n",
       "      <th></th>\n",
       "      <th></th>\n",
       "      <th></th>\n",
       "      <th></th>\n",
       "      <th></th>\n",
       "      <th></th>\n",
       "      <th></th>\n",
       "      <th></th>\n",
       "      <th></th>\n",
       "      <th></th>\n",
       "      <th></th>\n",
       "      <th></th>\n",
       "      <th></th>\n",
       "      <th></th>\n",
       "      <th></th>\n",
       "      <th></th>\n",
       "      <th></th>\n",
       "      <th></th>\n",
       "      <th></th>\n",
       "    </tr>\n",
       "  </thead>\n",
       "  <tbody>\n",
       "    <tr>\n",
       "      <th>2.0</th>\n",
       "      <td>1.204505</td>\n",
       "      <td>123.759791</td>\n",
       "      <td>15.615349</td>\n",
       "      <td>56.236411</td>\n",
       "      <td>21.418909</td>\n",
       "      <td>35.568044</td>\n",
       "      <td>-16.897729</td>\n",
       "      <td>5.491981</td>\n",
       "      <td>31.696284</td>\n",
       "      <td>52.00476</td>\n",
       "      <td>...</td>\n",
       "      <td>8.775041</td>\n",
       "      <td>7.163739</td>\n",
       "      <td>4.798522</td>\n",
       "      <td>1.478423</td>\n",
       "      <td>-1.427548</td>\n",
       "      <td>69.554729</td>\n",
       "      <td>15.619036</td>\n",
       "      <td>12.472722</td>\n",
       "      <td>27.994191</td>\n",
       "      <td>0.102289</td>\n",
       "    </tr>\n",
       "    <tr>\n",
       "      <th>5.0</th>\n",
       "      <td>0.290463</td>\n",
       "      <td>201.066534</td>\n",
       "      <td>11.879056</td>\n",
       "      <td>62.804915</td>\n",
       "      <td>12.421379</td>\n",
       "      <td>61.262327</td>\n",
       "      <td>-3.964755</td>\n",
       "      <td>8.615092</td>\n",
       "      <td>42.166673</td>\n",
       "      <td>168.22135</td>\n",
       "      <td>...</td>\n",
       "      <td>0.899513</td>\n",
       "      <td>0.740219</td>\n",
       "      <td>0.486938</td>\n",
       "      <td>4.416704</td>\n",
       "      <td>-0.174110</td>\n",
       "      <td>161.285544</td>\n",
       "      <td>11.840941</td>\n",
       "      <td>12.173335</td>\n",
       "      <td>-134.876118</td>\n",
       "      <td>0.928348</td>\n",
       "    </tr>\n",
       "  </tbody>\n",
       "</table>\n",
       "<p>2 rows × 25 columns</p>\n",
       "</div>"
      ],
      "text/plain": [
       "            CurrentSpeed  CurrentDir        TWS        TWA        AWS  \\\n",
       "ModePilote                                                              \n",
       "2.0             1.204505  123.759791  15.615349  56.236411  21.418909   \n",
       "5.0             0.290463  201.066534  11.879056  62.804915  12.421379   \n",
       "\n",
       "                  AWA       Roll     Pitch  HeadingMag        HoG  ...  \\\n",
       "ModePilote                                                         ...   \n",
       "2.0         35.568044 -16.897729  5.491981   31.696284   52.00476  ...   \n",
       "5.0         61.262327  -3.964755  8.615092   42.166673  168.22135  ...   \n",
       "\n",
       "                 SoS    AvgSoS       VMG  RudderAng    Leeway         TWD  \\\n",
       "ModePilote                                                                  \n",
       "2.0         8.775041  7.163739  4.798522   1.478423 -1.427548   69.554729   \n",
       "5.0         0.899513  0.740219  0.486938   4.416704 -0.174110  161.285544   \n",
       "\n",
       "                 WSoG  VoltageDrawn         Yaw   Tacking  \n",
       "ModePilote                                                 \n",
       "2.0         15.619036     12.472722   27.994191  0.102289  \n",
       "5.0         11.840941     12.173335 -134.876118  0.928348  \n",
       "\n",
       "[2 rows x 25 columns]"
      ]
     },
     "execution_count": 75,
     "metadata": {},
     "output_type": "execute_result"
    }
   ],
   "source": [
    "# Get some information about the averages for ModePilote to understand the variable\n",
    "data.groupby('ModePilote').mean()"
   ]
  },
  {
   "cell_type": "code",
   "execution_count": 6,
   "metadata": {},
   "outputs": [],
   "source": [
    "# Change ModePilote to 0 and 1\n",
    "data.loc[data['ModePilote'] == 5, 'ModePilote'] = 1\n",
    "data.loc[data['ModePilote'] == 2, 'ModePilote'] = 0"
   ]
  },
  {
   "cell_type": "markdown",
   "metadata": {},
   "source": [
    "## Cleaning data\n",
    "\n",
    "Interpolate NaN in DT as we know it samples once per second. So if DT is NaN at index 1, we can insert the value as DT at index 0 plus one second."
   ]
  },
  {
   "cell_type": "code",
   "execution_count": 7,
   "metadata": {},
   "outputs": [
    {
     "data": {
      "text/plain": [
       "array([ 39959,  81738,  82751,  91468, 121548], dtype=int64)"
      ]
     },
     "execution_count": 7,
     "metadata": {},
     "output_type": "execute_result"
    }
   ],
   "source": [
    "# Get index of missing in DT\n",
    "inds = pd.isnull(data['DateTime']).to_numpy().nonzero()[0]\n",
    "inds"
   ]
  },
  {
   "cell_type": "code",
   "execution_count": 8,
   "metadata": {},
   "outputs": [],
   "source": [
    "# For each missing value, we add the previous timestamp plus 1\n",
    "# Note that we run chronologically down DF\n",
    "# Thus, if there are multiple NaN in a row (not the case), this would be fine\n",
    "for item in inds:\n",
    "    data.loc[item, 'DateTime'] = data.loc[item-1, 'DateTime'] + pd.to_timedelta(1, unit='s')"
   ]
  },
  {
   "cell_type": "markdown",
   "metadata": {},
   "source": [
    "Other missing values could be interpolated, as we might assume that things such as direction and speed might not change drastically from one time point to another. This could be done by taking an average of the n previous and following values and setting it in place of a missing value. This would exclude the Tacking and ModePilote columns as they seem categorical."
   ]
  },
  {
   "cell_type": "code",
   "execution_count": 9,
   "metadata": {},
   "outputs": [],
   "source": [
    "# Interpolating for all other numerical variables\n",
    "# Input mean of previous 5 and following 5 values\n",
    "for col in [item for item in data.columns if item not in ['ModePilote', 'Tacking']]:\n",
    "    inds = pd.isnull(data[col]).to_numpy().nonzero()[0]\n",
    "    for i in inds:\n",
    "           data.loc[i, col] = data.loc[(i-5):(i+5), col].mean()\n",
    "\n",
    "# For categorical variables, we take only the previous value\n",
    "# Trade-off between labels being correct and complete dataset\n",
    "for col in ['ModePilote', 'Tacking']:\n",
    "    inds = pd.isnull(data[col]).to_numpy().nonzero()[0]\n",
    "    for i in inds:\n",
    "           data.loc[i, col] = data.loc[i-1, col].mean()"
   ]
  },
  {
   "cell_type": "code",
   "execution_count": 10,
   "metadata": {},
   "outputs": [],
   "source": [
    "# Create time-to-tack variable\n",
    "# Get indices for starting and ending tacking\n",
    "# make new variable with NaNs (all times when we tack should be nan)\n",
    "start_tack = data.index[(data['Tacking'] != data['Tacking'].shift(1)) & (data['Tacking'] == 1)]\n",
    "end_tack = data.index[(data['Tacking'] != data['Tacking'].shift(1)) & (data['Tacking'] == 0)]\n",
    "data['time_to_tack'] = np.nan\n",
    "\n",
    "# Add countdown in seconds until time of tacking for all non-tacking periods\n",
    "for i, item in enumerate(end_tack[:-1]):\n",
    "    data.loc[item:(start_tack[i+1]-1), 'time_to_tack'] = range(start_tack[i+1]-item,0,-1)"
   ]
  },
  {
   "cell_type": "code",
   "execution_count": 11,
   "metadata": {},
   "outputs": [],
   "source": [
    "# Scale numeric features\n",
    "numeric_cols = [item for item in data.columns if item not in ['ModePilote', 'Tacking', 'time_to_tack', 'DateTime']]\n",
    "X_numeric = data[numeric_cols]"
   ]
  },
  {
   "cell_type": "code",
   "execution_count": 17,
   "metadata": {},
   "outputs": [
    {
     "name": "stdout",
     "output_type": "stream",
     "text": [
      "CurrentSpeed\n",
      "CurrentDir\n",
      "TWS\n",
      "TWA\n",
      "AWS\n",
      "AWA\n",
      "Roll\n",
      "Pitch\n",
      "HeadingMag\n",
      "HoG\n",
      "HeadingTrue\n",
      "AirTemp\n",
      "Longitude\n",
      "Series is Non-Stationary\n",
      "Latitude\n",
      "Series is Non-Stationary\n",
      "SoG\n",
      "SoS\n",
      "AvgSoS\n",
      "VMG\n",
      "RudderAng\n",
      "Leeway\n",
      "TWD\n",
      "WSoG\n",
      "VoltageDrawn\n",
      "Yaw\n"
     ]
    }
   ],
   "source": [
    "# Check if data is stationary\n",
    "\n",
    "# Augmented Dickey-Fuller Test (ADF Test)/unit root test\n",
    "def adf_test(ts, signif=0.05):\n",
    "    dftest = adfuller(ts, autolag='AIC')\n",
    "    adf = pd.Series(dftest[0:4], index=['Test Statistic','p-value','# Lags','# Observations'])\n",
    "    for key,value in dftest[4].items():\n",
    "       adf['Critical Value (%s)'%key] = value\n",
    "    \n",
    "    p = adf['p-value']\n",
    "    if p > signif:\n",
    "        print(f'Series is Non-Stationary')\n",
    "\n",
    "# Look at all numerical features\n",
    "for col in X_numeric.columns:\n",
    "    print(col)\n",
    "    adf_test(X_numeric[col])"
   ]
  },
  {
   "cell_type": "code",
   "execution_count": 18,
   "metadata": {},
   "outputs": [
    {
     "name": "stdout",
     "output_type": "stream",
     "text": [
      "CurrentSpeed\n",
      "CurrentDir\n",
      "TWS\n",
      "TWA\n",
      "AWS\n",
      "AWA\n",
      "Roll\n",
      "Pitch\n",
      "HeadingMag\n",
      "HoG\n",
      "HeadingTrue\n",
      "AirTemp\n",
      "Longitude\n",
      "Latitude\n",
      "SoG\n",
      "SoS\n",
      "AvgSoS\n",
      "VMG\n",
      "RudderAng\n",
      "Leeway\n",
      "TWD\n",
      "WSoG\n",
      "VoltageDrawn\n",
      "Yaw\n"
     ]
    },
    {
     "name": "stderr",
     "output_type": "stream",
     "text": [
      "<ipython-input-18-2dab6dd7dcc8>:3: FutureWarning: the 'lags'' keyword is deprecated, use 'nlags' instead\n",
      "  kpsstest = kpss(ts, regression='c', lags='auto')\n",
      "C:\\Users\\samue\\anaconda3\\lib\\site-packages\\statsmodels\\tsa\\stattools.py:1874: InterpolationWarning: The test statistic is outside of the range of p-values available in the\n",
      "look-up table. The actual p-value is smaller than the p-value returned.\n",
      "\n",
      "  Computes the Kwiatkowski-Phillips-Schmidt-Shin (KPSS) test for the null\n",
      "C:\\Users\\samue\\anaconda3\\lib\\site-packages\\statsmodels\\tsa\\stattools.py:1874: InterpolationWarning: The test statistic is outside of the range of p-values available in the\n",
      "look-up table. The actual p-value is smaller than the p-value returned.\n",
      "\n",
      "  Computes the Kwiatkowski-Phillips-Schmidt-Shin (KPSS) test for the null\n",
      "C:\\Users\\samue\\anaconda3\\lib\\site-packages\\statsmodels\\tsa\\stattools.py:1874: InterpolationWarning: The test statistic is outside of the range of p-values available in the\n",
      "look-up table. The actual p-value is smaller than the p-value returned.\n",
      "\n",
      "  Computes the Kwiatkowski-Phillips-Schmidt-Shin (KPSS) test for the null\n",
      "C:\\Users\\samue\\anaconda3\\lib\\site-packages\\statsmodels\\tsa\\stattools.py:1874: InterpolationWarning: The test statistic is outside of the range of p-values available in the\n",
      "look-up table. The actual p-value is smaller than the p-value returned.\n",
      "\n",
      "  Computes the Kwiatkowski-Phillips-Schmidt-Shin (KPSS) test for the null\n",
      "C:\\Users\\samue\\anaconda3\\lib\\site-packages\\statsmodels\\tsa\\stattools.py:1874: InterpolationWarning: The test statistic is outside of the range of p-values available in the\n",
      "look-up table. The actual p-value is smaller than the p-value returned.\n",
      "\n",
      "  Computes the Kwiatkowski-Phillips-Schmidt-Shin (KPSS) test for the null\n",
      "C:\\Users\\samue\\anaconda3\\lib\\site-packages\\statsmodels\\tsa\\stattools.py:1874: InterpolationWarning: The test statistic is outside of the range of p-values available in the\n",
      "look-up table. The actual p-value is smaller than the p-value returned.\n",
      "\n",
      "  Computes the Kwiatkowski-Phillips-Schmidt-Shin (KPSS) test for the null\n",
      "C:\\Users\\samue\\anaconda3\\lib\\site-packages\\statsmodels\\tsa\\stattools.py:1874: InterpolationWarning: The test statistic is outside of the range of p-values available in the\n",
      "look-up table. The actual p-value is smaller than the p-value returned.\n",
      "\n",
      "  Computes the Kwiatkowski-Phillips-Schmidt-Shin (KPSS) test for the null\n",
      "C:\\Users\\samue\\anaconda3\\lib\\site-packages\\statsmodels\\tsa\\stattools.py:1874: InterpolationWarning: The test statistic is outside of the range of p-values available in the\n",
      "look-up table. The actual p-value is smaller than the p-value returned.\n",
      "\n",
      "  Computes the Kwiatkowski-Phillips-Schmidt-Shin (KPSS) test for the null\n",
      "C:\\Users\\samue\\anaconda3\\lib\\site-packages\\statsmodels\\tsa\\stattools.py:1874: InterpolationWarning: The test statistic is outside of the range of p-values available in the\n",
      "look-up table. The actual p-value is smaller than the p-value returned.\n",
      "\n",
      "  Computes the Kwiatkowski-Phillips-Schmidt-Shin (KPSS) test for the null\n",
      "C:\\Users\\samue\\anaconda3\\lib\\site-packages\\statsmodels\\tsa\\stattools.py:1874: InterpolationWarning: The test statistic is outside of the range of p-values available in the\n",
      "look-up table. The actual p-value is smaller than the p-value returned.\n",
      "\n",
      "  Computes the Kwiatkowski-Phillips-Schmidt-Shin (KPSS) test for the null\n",
      "C:\\Users\\samue\\anaconda3\\lib\\site-packages\\statsmodels\\tsa\\stattools.py:1874: InterpolationWarning: The test statistic is outside of the range of p-values available in the\n",
      "look-up table. The actual p-value is smaller than the p-value returned.\n",
      "\n",
      "  Computes the Kwiatkowski-Phillips-Schmidt-Shin (KPSS) test for the null\n",
      "C:\\Users\\samue\\anaconda3\\lib\\site-packages\\statsmodels\\tsa\\stattools.py:1874: InterpolationWarning: The test statistic is outside of the range of p-values available in the\n",
      "look-up table. The actual p-value is smaller than the p-value returned.\n",
      "\n",
      "  Computes the Kwiatkowski-Phillips-Schmidt-Shin (KPSS) test for the null\n",
      "C:\\Users\\samue\\anaconda3\\lib\\site-packages\\statsmodels\\tsa\\stattools.py:1874: InterpolationWarning: The test statistic is outside of the range of p-values available in the\n",
      "look-up table. The actual p-value is smaller than the p-value returned.\n",
      "\n",
      "  Computes the Kwiatkowski-Phillips-Schmidt-Shin (KPSS) test for the null\n",
      "C:\\Users\\samue\\anaconda3\\lib\\site-packages\\statsmodels\\tsa\\stattools.py:1874: InterpolationWarning: The test statistic is outside of the range of p-values available in the\n",
      "look-up table. The actual p-value is smaller than the p-value returned.\n",
      "\n",
      "  Computes the Kwiatkowski-Phillips-Schmidt-Shin (KPSS) test for the null\n",
      "C:\\Users\\samue\\anaconda3\\lib\\site-packages\\statsmodels\\tsa\\stattools.py:1874: InterpolationWarning: The test statistic is outside of the range of p-values available in the\n",
      "look-up table. The actual p-value is smaller than the p-value returned.\n",
      "\n",
      "  Computes the Kwiatkowski-Phillips-Schmidt-Shin (KPSS) test for the null\n",
      "C:\\Users\\samue\\anaconda3\\lib\\site-packages\\statsmodels\\tsa\\stattools.py:1874: InterpolationWarning: The test statistic is outside of the range of p-values available in the\n",
      "look-up table. The actual p-value is smaller than the p-value returned.\n",
      "\n",
      "  Computes the Kwiatkowski-Phillips-Schmidt-Shin (KPSS) test for the null\n",
      "C:\\Users\\samue\\anaconda3\\lib\\site-packages\\statsmodels\\tsa\\stattools.py:1874: InterpolationWarning: The test statistic is outside of the range of p-values available in the\n",
      "look-up table. The actual p-value is smaller than the p-value returned.\n",
      "\n",
      "  Computes the Kwiatkowski-Phillips-Schmidt-Shin (KPSS) test for the null\n",
      "C:\\Users\\samue\\anaconda3\\lib\\site-packages\\statsmodels\\tsa\\stattools.py:1874: InterpolationWarning: The test statistic is outside of the range of p-values available in the\n",
      "look-up table. The actual p-value is smaller than the p-value returned.\n",
      "\n",
      "  Computes the Kwiatkowski-Phillips-Schmidt-Shin (KPSS) test for the null\n",
      "C:\\Users\\samue\\anaconda3\\lib\\site-packages\\statsmodels\\tsa\\stattools.py:1874: InterpolationWarning: The test statistic is outside of the range of p-values available in the\n",
      "look-up table. The actual p-value is smaller than the p-value returned.\n",
      "\n",
      "  Computes the Kwiatkowski-Phillips-Schmidt-Shin (KPSS) test for the null\n",
      "C:\\Users\\samue\\anaconda3\\lib\\site-packages\\statsmodels\\tsa\\stattools.py:1874: InterpolationWarning: The test statistic is outside of the range of p-values available in the\n",
      "look-up table. The actual p-value is smaller than the p-value returned.\n",
      "\n",
      "  Computes the Kwiatkowski-Phillips-Schmidt-Shin (KPSS) test for the null\n",
      "C:\\Users\\samue\\anaconda3\\lib\\site-packages\\statsmodels\\tsa\\stattools.py:1874: InterpolationWarning: The test statistic is outside of the range of p-values available in the\n",
      "look-up table. The actual p-value is smaller than the p-value returned.\n",
      "\n",
      "  Computes the Kwiatkowski-Phillips-Schmidt-Shin (KPSS) test for the null\n",
      "C:\\Users\\samue\\anaconda3\\lib\\site-packages\\statsmodels\\tsa\\stattools.py:1874: InterpolationWarning: The test statistic is outside of the range of p-values available in the\n",
      "look-up table. The actual p-value is smaller than the p-value returned.\n",
      "\n",
      "  Computes the Kwiatkowski-Phillips-Schmidt-Shin (KPSS) test for the null\n",
      "C:\\Users\\samue\\anaconda3\\lib\\site-packages\\statsmodels\\tsa\\stattools.py:1874: InterpolationWarning: The test statistic is outside of the range of p-values available in the\n",
      "look-up table. The actual p-value is smaller than the p-value returned.\n",
      "\n",
      "  Computes the Kwiatkowski-Phillips-Schmidt-Shin (KPSS) test for the null\n",
      "C:\\Users\\samue\\anaconda3\\lib\\site-packages\\statsmodels\\tsa\\stattools.py:1874: InterpolationWarning: The test statistic is outside of the range of p-values available in the\n",
      "look-up table. The actual p-value is smaller than the p-value returned.\n",
      "\n",
      "  Computes the Kwiatkowski-Phillips-Schmidt-Shin (KPSS) test for the null\n"
     ]
    }
   ],
   "source": [
    "# KPSS\n",
    "def kpss_test(ts):\n",
    "    kpsstest = kpss(ts, regression='c', lags='auto')\n",
    "    kpss_output = pd.Series(kpsstest[0:3], index=['Test Statistic','p-value','Lags Used'])\n",
    "    if kpss_output['p-value'] > .05:\n",
    "        print('Stationary')\n",
    "\n",
    "# Look at all numerical features\n",
    "for col in X_numeric.columns:\n",
    "    print(col)\n",
    "    kpss_test(X_numeric[col])"
   ]
  },
  {
   "cell_type": "markdown",
   "metadata": {},
   "source": [
    "#### RESULTS stationarity\n",
    "- ADF non-stationary: longitude, latitude\n",
    "- KPSS non-stationary: All variables\n",
    "- Longitude & latitude non-stationary\n",
    "- All others difference stationary"
   ]
  },
  {
   "cell_type": "code",
   "execution_count": 12,
   "metadata": {},
   "outputs": [
    {
     "name": "stderr",
     "output_type": "stream",
     "text": [
      "C:\\Users\\samue\\AppData\\Local\\Temp/ipykernel_10132/3013986930.py:3: SettingWithCopyWarning: \n",
      "A value is trying to be set on a copy of a slice from a DataFrame.\n",
      "Try using .loc[row_indexer,col_indexer] = value instead\n",
      "\n",
      "See the caveats in the documentation: https://pandas.pydata.org/pandas-docs/stable/user_guide/indexing.html#returning-a-view-versus-a-copy\n",
      "  X_numeric[col] = X_numeric[col] - X_numeric[col].shift(1)\n"
     ]
    }
   ],
   "source": [
    "# Difference all numeric variables\n",
    "for col in X_numeric.columns:\n",
    "    X_numeric[col] = X_numeric[col] - X_numeric[col].shift(1)\n",
    "\n",
    "X_numeric = X_numeric.dropna()"
   ]
  },
  {
   "cell_type": "code",
   "execution_count": 212,
   "metadata": {},
   "outputs": [
    {
     "data": {
      "text/plain": [
       "Index(['CurrentSpeed', 'CurrentDir', 'TWS', 'TWA', 'AWS', 'AWA', 'Roll',\n",
       "       'Pitch', 'HeadingMag', 'HoG', 'HeadingTrue', 'AirTemp', 'Longitude',\n",
       "       'Latitude', 'SoG', 'SoS', 'AvgSoS', 'VMG', 'RudderAng', 'Leeway', 'TWD',\n",
       "       'WSoG', 'VoltageDrawn', 'Yaw'],\n",
       "      dtype='object')"
      ]
     },
     "execution_count": 212,
     "metadata": {},
     "output_type": "execute_result"
    }
   ],
   "source": [
    "# Scale numeric features\n",
    "scaled_features = StandardScaler().fit_transform(X_numeric.values)\n",
    "scaled_df = pd.DataFrame(scaled_features, columns=X_numeric.columns)\n",
    "scaled_df.columns"
   ]
  },
  {
   "cell_type": "code",
   "execution_count": 213,
   "metadata": {},
   "outputs": [],
   "source": [
    "# Replace outliers (more than 5 std from mean) with mean of previous and next value\n",
    "# Might not use\n",
    "for col in ['CurrentSpeed', 'CurrentDir', 'TWS', 'TWA', 'AWS', 'AWA', 'Roll',\n",
    "       'Pitch', 'AirTemp', 'SoG', 'SoS', 'VMG', 'RudderAng', 'Leeway', 'TWD',\n",
    "       'WSoG', 'VoltageDrawn', 'Yaw']:\n",
    "    inds = scaled_df.index[abs(scaled_df[col]) > 5]\n",
    "    for i in inds:\n",
    "        scaled_df.loc[i, col] = scaled_df.loc[[i-1, i+1], col].mean()"
   ]
  },
  {
   "cell_type": "code",
   "execution_count": 214,
   "metadata": {},
   "outputs": [],
   "source": [
    "# Smoothing\n",
    "for col in scaled_df.columns:\n",
    "    scaled_df[col] = scaled_df[col].rolling(5).mean()\n",
    "\n",
    "scaled_df = scaled_df.dropna()"
   ]
  },
  {
   "cell_type": "code",
   "execution_count": 215,
   "metadata": {},
   "outputs": [],
   "source": [
    "# Get correlation matrix\n",
    "corrMatrix = scaled_df.corr()"
   ]
  },
  {
   "cell_type": "code",
   "execution_count": 216,
   "metadata": {},
   "outputs": [
    {
     "data": {
      "image/png": "[encoded data removed]",
      "text/plain": [
       "<Figure size 1440x1440 with 2 Axes>"
      ]
     },
     "metadata": {
      "needs_background": "light"
     },
     "output_type": "display_data"
    }
   ],
   "source": [
    "# Make nice and colorful plot of matrix\n",
    "fig, ax = plt.subplots(figsize=(20,20))         # Sample figsize in inches\n",
    "sns.heatmap(corrMatrix, annot=True, linewidths=.5, ax=ax)\n",
    "plt.show()"
   ]
  },
  {
   "cell_type": "code",
   "execution_count": 44,
   "metadata": {},
   "outputs": [],
   "source": [
    "# drop certain columns due to multicolinearity (not always)\n",
    "scaled_df = scaled_df.drop(['HoG', 'HeadingTrue', 'AvgSoS'], axis=1)"
   ]
  },
  {
   "cell_type": "code",
   "execution_count": 217,
   "metadata": {},
   "outputs": [
    {
     "name": "stdout",
     "output_type": "stream",
     "text": [
      "[0.74673913 0.5884974  0.4439142  0.26440583 0.16363578 0.14299272\n",
      " 0.1084731  0.089985   0.08130163 0.07368183 0.0686507  0.06073771\n",
      " 0.05013953 0.04961054 0.0442607 ]\n"
     ]
    }
   ],
   "source": [
    "# Tested 3 set-ups before PCA\n",
    "# With and without HoG, HT and AvgSoS with 95% var explained\n",
    "# Without above and 90% var\n",
    "\n",
    "# Dimensionality reduction\n",
    "array_x_pca = np.array(scaled_df)\n",
    "\n",
    "# Create the PCA instance\n",
    "pca = PCA(n_components = 0.95)\n",
    "\n",
    "# Fit on data\n",
    "pca.fit(array_x_pca)\n",
    "\n",
    "# Access values and vectors\n",
    "print(pca.explained_variance_)\n",
    "\n",
    "# Transform data\n",
    "smol_scaled = pca.transform(array_x_pca)"
   ]
  },
  {
   "cell_type": "code",
   "execution_count": 218,
   "metadata": {},
   "outputs": [],
   "source": [
    "smol_scaled2 = pd.DataFrame(smol_scaled)"
   ]
  },
  {
   "cell_type": "code",
   "execution_count": 219,
   "metadata": {},
   "outputs": [
    {
     "data": {
      "text/html": [
       "<div>\n",
       "<style scoped>\n",
       "    .dataframe tbody tr th:only-of-type {\n",
       "        vertical-align: middle;\n",
       "    }\n",
       "\n",
       "    .dataframe tbody tr th {\n",
       "        vertical-align: top;\n",
       "    }\n",
       "\n",
       "    .dataframe thead th {\n",
       "        text-align: right;\n",
       "    }\n",
       "</style>\n",
       "<table border=\"1\" class=\"dataframe\">\n",
       "  <thead>\n",
       "    <tr style=\"text-align: right;\">\n",
       "      <th></th>\n",
       "      <th>0</th>\n",
       "      <th>1</th>\n",
       "      <th>2</th>\n",
       "      <th>3</th>\n",
       "      <th>4</th>\n",
       "      <th>5</th>\n",
       "      <th>6</th>\n",
       "      <th>7</th>\n",
       "      <th>8</th>\n",
       "      <th>9</th>\n",
       "      <th>10</th>\n",
       "      <th>11</th>\n",
       "      <th>12</th>\n",
       "      <th>13</th>\n",
       "      <th>14</th>\n",
       "      <th>15</th>\n",
       "      <th>16</th>\n",
       "    </tr>\n",
       "    <tr>\n",
       "      <th>17</th>\n",
       "      <th></th>\n",
       "      <th></th>\n",
       "      <th></th>\n",
       "      <th></th>\n",
       "      <th></th>\n",
       "      <th></th>\n",
       "      <th></th>\n",
       "      <th></th>\n",
       "      <th></th>\n",
       "      <th></th>\n",
       "      <th></th>\n",
       "      <th></th>\n",
       "      <th></th>\n",
       "      <th></th>\n",
       "      <th></th>\n",
       "      <th></th>\n",
       "      <th></th>\n",
       "    </tr>\n",
       "  </thead>\n",
       "  <tbody>\n",
       "    <tr>\n",
       "      <th>2019-04-14 00:00:01</th>\n",
       "      <td>0.000108</td>\n",
       "      <td>-0.021678</td>\n",
       "      <td>0.001025</td>\n",
       "      <td>-0.006149</td>\n",
       "      <td>-0.012574</td>\n",
       "      <td>-0.014104</td>\n",
       "      <td>0.000177</td>\n",
       "      <td>0.001833</td>\n",
       "      <td>0.001134</td>\n",
       "      <td>-0.001199</td>\n",
       "      <td>0.004069</td>\n",
       "      <td>-0.005606</td>\n",
       "      <td>-0.008009</td>\n",
       "      <td>0.058047</td>\n",
       "      <td>0.017924</td>\n",
       "      <td>1.0</td>\n",
       "      <td>1.0</td>\n",
       "    </tr>\n",
       "    <tr>\n",
       "      <th>2019-04-14 00:00:02</th>\n",
       "      <td>-0.000022</td>\n",
       "      <td>-0.021649</td>\n",
       "      <td>0.002399</td>\n",
       "      <td>-0.009245</td>\n",
       "      <td>-0.013175</td>\n",
       "      <td>-0.013335</td>\n",
       "      <td>0.000049</td>\n",
       "      <td>0.001736</td>\n",
       "      <td>0.001277</td>\n",
       "      <td>-0.001102</td>\n",
       "      <td>0.003962</td>\n",
       "      <td>-0.007763</td>\n",
       "      <td>-0.008213</td>\n",
       "      <td>0.056918</td>\n",
       "      <td>0.020537</td>\n",
       "      <td>1.0</td>\n",
       "      <td>1.0</td>\n",
       "    </tr>\n",
       "    <tr>\n",
       "      <th>2019-04-14 00:00:03</th>\n",
       "      <td>-0.000229</td>\n",
       "      <td>-0.021663</td>\n",
       "      <td>0.000990</td>\n",
       "      <td>-0.004461</td>\n",
       "      <td>-0.011232</td>\n",
       "      <td>-0.016469</td>\n",
       "      <td>0.000314</td>\n",
       "      <td>0.001863</td>\n",
       "      <td>0.001842</td>\n",
       "      <td>-0.001054</td>\n",
       "      <td>-0.001322</td>\n",
       "      <td>0.000015</td>\n",
       "      <td>-0.008344</td>\n",
       "      <td>0.058929</td>\n",
       "      <td>0.017420</td>\n",
       "      <td>1.0</td>\n",
       "      <td>1.0</td>\n",
       "    </tr>\n",
       "    <tr>\n",
       "      <th>2019-04-14 00:00:04</th>\n",
       "      <td>-0.000229</td>\n",
       "      <td>-0.021663</td>\n",
       "      <td>0.000990</td>\n",
       "      <td>-0.004461</td>\n",
       "      <td>-0.011232</td>\n",
       "      <td>-0.016469</td>\n",
       "      <td>0.000314</td>\n",
       "      <td>0.001863</td>\n",
       "      <td>0.001842</td>\n",
       "      <td>-0.001054</td>\n",
       "      <td>-0.001322</td>\n",
       "      <td>0.000015</td>\n",
       "      <td>-0.008344</td>\n",
       "      <td>0.058929</td>\n",
       "      <td>0.017420</td>\n",
       "      <td>1.0</td>\n",
       "      <td>1.0</td>\n",
       "    </tr>\n",
       "    <tr>\n",
       "      <th>2019-04-14 00:00:05</th>\n",
       "      <td>-0.000311</td>\n",
       "      <td>-0.021612</td>\n",
       "      <td>0.001961</td>\n",
       "      <td>-0.004393</td>\n",
       "      <td>-0.005622</td>\n",
       "      <td>-0.007171</td>\n",
       "      <td>0.000211</td>\n",
       "      <td>0.002815</td>\n",
       "      <td>0.000484</td>\n",
       "      <td>-0.000935</td>\n",
       "      <td>-0.002063</td>\n",
       "      <td>0.001944</td>\n",
       "      <td>-0.003785</td>\n",
       "      <td>0.018333</td>\n",
       "      <td>0.008888</td>\n",
       "      <td>1.0</td>\n",
       "      <td>1.0</td>\n",
       "    </tr>\n",
       "  </tbody>\n",
       "</table>\n",
       "</div>"
      ],
      "text/plain": [
       "                           0         1         2         3         4   \\\n",
       "17                                                                      \n",
       "2019-04-14 00:00:01  0.000108 -0.021678  0.001025 -0.006149 -0.012574   \n",
       "2019-04-14 00:00:02 -0.000022 -0.021649  0.002399 -0.009245 -0.013175   \n",
       "2019-04-14 00:00:03 -0.000229 -0.021663  0.000990 -0.004461 -0.011232   \n",
       "2019-04-14 00:00:04 -0.000229 -0.021663  0.000990 -0.004461 -0.011232   \n",
       "2019-04-14 00:00:05 -0.000311 -0.021612  0.001961 -0.004393 -0.005622   \n",
       "\n",
       "                           5         6         7         8         9   \\\n",
       "17                                                                      \n",
       "2019-04-14 00:00:01 -0.014104  0.000177  0.001833  0.001134 -0.001199   \n",
       "2019-04-14 00:00:02 -0.013335  0.000049  0.001736  0.001277 -0.001102   \n",
       "2019-04-14 00:00:03 -0.016469  0.000314  0.001863  0.001842 -0.001054   \n",
       "2019-04-14 00:00:04 -0.016469  0.000314  0.001863  0.001842 -0.001054   \n",
       "2019-04-14 00:00:05 -0.007171  0.000211  0.002815  0.000484 -0.000935   \n",
       "\n",
       "                           10        11        12        13        14   15  \\\n",
       "17                                                                           \n",
       "2019-04-14 00:00:01  0.004069 -0.005606 -0.008009  0.058047  0.017924  1.0   \n",
       "2019-04-14 00:00:02  0.003962 -0.007763 -0.008213  0.056918  0.020537  1.0   \n",
       "2019-04-14 00:00:03 -0.001322  0.000015 -0.008344  0.058929  0.017420  1.0   \n",
       "2019-04-14 00:00:04 -0.001322  0.000015 -0.008344  0.058929  0.017420  1.0   \n",
       "2019-04-14 00:00:05 -0.002063  0.001944 -0.003785  0.018333  0.008888  1.0   \n",
       "\n",
       "                      16  \n",
       "17                        \n",
       "2019-04-14 00:00:01  1.0  \n",
       "2019-04-14 00:00:02  1.0  \n",
       "2019-04-14 00:00:03  1.0  \n",
       "2019-04-14 00:00:04  1.0  \n",
       "2019-04-14 00:00:05  1.0  "
      ]
     },
     "execution_count": 219,
     "metadata": {},
     "output_type": "execute_result"
    }
   ],
   "source": [
    "# Combined numeric and ModePilote\n",
    "cat_df = data.loc[1:, ['ModePilote', 'Tacking', 'DateTime']]\n",
    "cat_df.index = range(199999)\n",
    "full_df = pd.concat([smol_scaled2, cat_df], axis=1, ignore_index=True)\n",
    "full_df.set_index(17, inplace=True)\n",
    "full_df.head()"
   ]
  },
  {
   "cell_type": "code",
   "execution_count": 220,
   "metadata": {},
   "outputs": [],
   "source": [
    "# Try with simple resampling to get more coarse data\n",
    "# Make Tacking binary again (slightly problematic)\n",
    "data_down = full_df.copy()\n",
    "data_down = data_down.resample('1T').mean()\n",
    "data_down[16] = [1 if item > 0.5 else 0 for item in data_down[16]]"
   ]
  },
  {
   "cell_type": "code",
   "execution_count": 221,
   "metadata": {},
   "outputs": [],
   "source": [
    "# Pick out data, rewritten function from https://machinelearningmastery.com/convert-time-series-supervised-learning-problem-python/\n",
    "\n",
    "def series_to_supervised(data, n_in=1, dropnan=True):\n",
    "\t\"\"\"\n",
    "\tFrame a time series as a supervised learning dataset.\n",
    "\tArguments:\n",
    "\t\tdata: Sequence of observations as a list or NumPy array.\n",
    "\t\tn_in: Number of lag observations as input (X).\n",
    "\t\tn_out: Number of observations as output (y).\n",
    "\t\tdropnan: Boolean whether or not to drop rows with NaN values.\n",
    "\tReturns:\n",
    "\t\tPandas DataFrame of series framed for supervised learning.\n",
    "\t\"\"\"\n",
    "\n",
    "\tn_vars = data.shape[1]-1\n",
    "\tdf = pd.DataFrame(data)\n",
    "\ttarget = df.iloc[:,-1]\n",
    "\tdf = df.iloc[:,:-1]\n",
    "\tcols, names = list(), list()\n",
    "\t# input sequence (t-n, ... t-1)\n",
    "\tfor i in range(n_in, -1, -1):\n",
    "\t\tcols.append(df.shift(i))\n",
    "\t\tif i == 0:\n",
    "\t\t\tnames += [('var%d(t)' % (j+1)) for j in range(n_vars)]\n",
    "\t\telse:\n",
    "\t\t\tnames += [('var%d(t-%d)' % (j+1, i)) for j in range(n_vars)]\n",
    "\n",
    "\t# forecast sequence\n",
    "\tcols.append(target.shift(-30))\n",
    "\tnames.append('Tacking')\n",
    "\t# put it all together\n",
    "\tagg = pd.concat(cols, axis=1)\n",
    "\tagg.columns = names\n",
    "\t# drop rows with NaN values\n",
    "\tif dropnan:\n",
    "\t\tagg.dropna(inplace=True)\n",
    "\treturn agg"
   ]
  },
  {
   "cell_type": "code",
   "execution_count": 222,
   "metadata": {},
   "outputs": [
    {
     "data": {
      "text/plain": [
       "(3299, 97)"
      ]
     },
     "execution_count": 222,
     "metadata": {},
     "output_type": "execute_result"
    }
   ],
   "source": [
    "supervised_df = series_to_supervised(data_down.values, n_in=5)\n",
    "supervised_df.shape"
   ]
  },
  {
   "cell_type": "code",
   "execution_count": 161,
   "metadata": {},
   "outputs": [],
   "source": [
    "# Remaking the DF without PCA to port into R for visualization\n",
    "\n",
    "# Scale numeric features\n",
    "scaled = StandardScaler().fit_transform(X_numeric.values)\n",
    "scaled = pd.DataFrame(scaled, columns=X_numeric.columns)\n",
    "\n",
    "scaled = pd.DataFrame(scaled)\n",
    "\n",
    "# Combined numeric and ModePilote\n",
    "cat_df = data.loc[1:, ['ModePilote', 'Tacking', 'DateTime']]\n",
    "cat_df.index = range(199999)\n",
    "full_df2 = pd.concat([scaled, cat_df], axis=1, ignore_index=True)\n",
    "full_df2.set_index(26, inplace=True)\n",
    "full_df2.head()\n",
    "\n",
    "full_df2.to_csv('C:/Users/samue/Documents/to_r_tdab_full.csv')\n",
    "\n",
    "data.to_csv('C:/Users/samue/Documents/to_r_tdab_raw.csv')\n",
    "\n",
    "data_down2 = full_df2.copy()\n",
    "data_down2 = data_down2.resample('1T').mean()\n",
    "data_down2[25] = [1 if item > 0.5 else 0 for item in data_down2[25]]\n",
    "\n",
    "supervised_df2 = series_to_supervised(data_down2.values, n_in=5)\n",
    "supervised_df2.shape\n",
    "\n",
    "supervised_df2.to_csv('C:/Users/samue/Documents/to_r_tdab_super.csv')"
   ]
  },
  {
   "cell_type": "code",
   "execution_count": 223,
   "metadata": {},
   "outputs": [],
   "source": [
    "# Split into train and test sets\n",
    "values = supervised_df.values\n",
    "n_train = int(round(values.shape[0]*0.7, 0))\n",
    "train = values[:n_train, :]\n",
    "test = values[n_train:, :]\n",
    "\n",
    "# Split into input and outputs\n",
    "X_train, y_train = train[:, :-1], train[:, -1]\n",
    "X_test, y_test = test[:, :-1], test[:, -1]"
   ]
  },
  {
   "cell_type": "code",
   "execution_count": 225,
   "metadata": {},
   "outputs": [],
   "source": [
    "# Make CV function\n",
    "# Can also run it on roc_auc\n",
    "from itertools import product\n",
    "\n",
    "def custom_CV(X_train, y_train, X_test, y_test, parameters):\n",
    "\n",
    "    param_list = list(product(*parameters.values()))\n",
    "\n",
    "    best_acc = 0\n",
    "\n",
    "    for i, row in enumerate(param_list):\n",
    "        xgb_mod = xgb.XGBClassifier(random_state=0, use_label_encoder=False, eval_metric='logloss',\n",
    "        eta = row[0], min_child_weight = row[1], gamma = row[2], subsample = row[3],\n",
    "        colsample_bytree = row[4], max_depth = row[5], scale_pos_weight = row[6],\n",
    "        reg_alpha = row[7], reg_lambda = row[8])\n",
    "\n",
    "        xgb_mod.fit(X_train, y_train)\n",
    "            \n",
    "        y_pred = [1 if item[1] > 0.5 else 0 for item in xgb_mod.predict_proba(X_test)]\n",
    "\n",
    "        if accuracy_score(y_test, y_pred) > best_acc:\n",
    "            best_acc = accuracy_score(y_test, y_pred)\n",
    "            best_params = xgb_mod.get_params\n",
    "\n",
    "        if i % 1000 == 0:\n",
    "            print(f'Current iteration is: {i}. Best accuracy is {best_acc}')\n",
    "    \n",
    "    return best_acc, best_params"
   ]
  },
  {
   "cell_type": "code",
   "execution_count": 226,
   "metadata": {},
   "outputs": [
    {
     "name": "stdout",
     "output_type": "stream",
     "text": [
      "Current iteration is: 0. Best accuracy is 0.8858585858585859\n"
     ]
    }
   ],
   "source": [
    "dist = {\n",
    "        'eta': [0.1, 0.2, 0.3],\n",
    "        'min_child_weight': [5, 10],\n",
    "        'gamma': [0, 1.0, 10],\n",
    "        'subsample': np.arange(0.5, 1, 0.1),\n",
    "        'colsample_bytree': np.arange(0.5, 1, 0.1),\n",
    "        'max_depth': np.arange(3, 10, 2),\n",
    "        'scale_pos_weight': [5, 10],\n",
    "        'reg_alpha': [1, 10.0, 100.0],\n",
    "        'reg_lambda': [1, 10.0, 100.0]\n",
    "        }\n",
    "\n",
    "best_acc, best_params = custom_CV(X_train, y_train, X_test, y_test, dist)"
   ]
  },
  {
   "cell_type": "code",
   "execution_count": 160,
   "metadata": {},
   "outputs": [
    {
     "data": {
      "text/plain": [
       "<bound method XGBModel.get_params of XGBClassifier(base_score=0.5, booster='gbtree', colsample_bylevel=1,\n",
       "              colsample_bynode=1, colsample_bytree=0.5,\n",
       "              enable_categorical=False, eta=0.3, eval_metric='logloss',\n",
       "              gamma=10, gpu_id=-1, importance_type=None,\n",
       "              interaction_constraints='', learning_rate=0.300000012,\n",
       "              max_delta_step=0, max_depth=9, min_child_weight=5, missing=nan,\n",
       "              monotone_constraints='()', n_estimators=100, n_jobs=12,\n",
       "              num_parallel_tree=1, predictor='auto', random_state=0,\n",
       "              reg_alpha=1, reg_lambda=1, scale_pos_weight=10, subsample=0.7,\n",
       "              tree_method='exact', use_label_encoder=False,\n",
       "              validate_parameters=1, ...)>"
      ]
     },
     "execution_count": 160,
     "metadata": {},
     "output_type": "execute_result"
    }
   ],
   "source": [
    "best_params"
   ]
  },
  {
   "cell_type": "code",
   "execution_count": null,
   "metadata": {},
   "outputs": [],
   "source": [
    "# 30 min forward, no back lag, by 30 min\n",
    "# roc_auc = .833\n",
    "\n",
    "xgb_mod = xgb.XGBClassifier(random_state=0, use_label_encoder=False, eval_metric='logloss',\n",
    "        eta = 0.1, min_child_weight = 10, gamma = 0, subsample = 0.5,\n",
    "        colsample_bytree = 0.8, max_depth = 3, scale_pos_weight = 5,\n",
    "        reg_alpha = 1, reg_lambda = 10)\n",
    "\n",
    "xgb_mod.fit(X_train, y_train)\n",
    "\n",
    "y_pred = [1 if item[1] > 0.5 else 0 for item in xgb_mod.predict_proba(X_test)]\n",
    "\n",
    "print(classification_report(y_test, y_pred))\n",
    "\n",
    "print(roc_auc_score(y_test, y_pred))"
   ]
  },
  {
   "cell_type": "code",
   "execution_count": null,
   "metadata": {},
   "outputs": [],
   "source": [
    "# Without tacking during for previous steps\n",
    "XGBClassifier(colsample_bytree=0.5, eta=0.3, eval_metric='logloss',\n",
    "              gamma=10, max_depth=9, min_child_weight=5, random_state=0,\n",
    "              reg_alpha=1, reg_lambda=1, scale_pos_weight=10, subsample=0.7, \n",
    "              use_label_encoder=False)"
   ]
  },
  {
   "cell_type": "markdown",
   "metadata": {},
   "source": [
    "#### This is the best model"
   ]
  },
  {
   "cell_type": "code",
   "execution_count": 152,
   "metadata": {},
   "outputs": [
    {
     "name": "stdout",
     "output_type": "stream",
     "text": [
      "              precision    recall  f1-score   support\n",
      "\n",
      "         0.0       0.96      0.98      0.97       898\n",
      "         1.0       0.73      0.63      0.68        92\n",
      "\n",
      "    accuracy                           0.94       990\n",
      "   macro avg       0.85      0.80      0.82       990\n",
      "weighted avg       0.94      0.94      0.94       990\n",
      "\n",
      "0.8035247409702722\n"
     ]
    },
    {
     "data": {
      "text/plain": [
       "0.0797979797979798"
      ]
     },
     "execution_count": 152,
     "metadata": {},
     "output_type": "execute_result"
    }
   ],
   "source": [
    "# 5 min back, 30 min forward, by 1 min\n",
    "# acc = 0.94\n",
    "# roc_auc = 0.8035\n",
    "\n",
    "xgb_mod = xgb.XGBClassifier(random_state=0, use_label_encoder=False, eval_metric='logloss',\n",
    "        eta = 0.1, min_child_weight = 5, gamma = 0, subsample = 0.9,\n",
    "        colsample_bytree = 0.8, max_depth = 3, scale_pos_weight = 5,\n",
    "        reg_alpha = 10, reg_lambda = 100)\n",
    "\n",
    "xgb_mod.fit(X_train, y_train)\n",
    "\n",
    "y_pred = [1 if item[1] > 0.5 else 0 for item in xgb_mod.predict_proba(X_test)]\n",
    "\n",
    "print(classification_report(y_test, y_pred))\n",
    "print(roc_auc_score(y_test, y_pred))"
   ]
  },
  {
   "cell_type": "code",
   "execution_count": 53,
   "metadata": {},
   "outputs": [
    {
     "name": "stdout",
     "output_type": "stream",
     "text": [
      "              precision    recall  f1-score   support\n",
      "\n",
      "         0.0       0.97      0.95      0.96       896\n",
      "         1.0       0.59      0.68      0.64        92\n",
      "\n",
      "    accuracy                           0.93       988\n",
      "   macro avg       0.78      0.82      0.80       988\n",
      "weighted avg       0.93      0.93      0.93       988\n",
      "\n",
      "0.8183957686335405\n"
     ]
    }
   ],
   "source": [
    "# 10 min back, 30 min forward, by 1 min\n",
    "# All variables, PCA .95\n",
    "# roc_auc = .876868\n",
    "\n",
    "xgb_mod = xgb.XGBClassifier(random_state=0, use_label_encoder=False, eval_metric='logloss',\n",
    "        eta = 0.2, min_child_weight = 5, gamma = 10, subsample = 0.8,\n",
    "        colsample_bytree = 0.9, max_depth = 3, scale_pos_weight = 10,\n",
    "        reg_alpha = 10, reg_lambda = 100)\n",
    "\n",
    "xgb_mod.fit(X_train, y_train)\n",
    "\n",
    "y_pred = [1 if item[1] > 0.5 else 0 for item in xgb_mod.predict_proba(X_test)]\n",
    "\n",
    "print(classification_report(y_test, y_pred))\n",
    "\n",
    "print(roc_auc_score(y_test, y_pred))"
   ]
  },
  {
   "cell_type": "code",
   "execution_count": 64,
   "metadata": {},
   "outputs": [],
   "source": [
    "# 10 min back, 30 min forward, by 1min\n",
    "# PCA = .9, removed 3 variables\n",
    "# roc_score = .84\n",
    "\n",
    "xgb_mod = xgb.XGBClassifier(random_state=0, use_label_encoder=False, eval_metric='logloss',\n",
    "        eta = 0.2, min_child_weight = 5, gamma = 0, subsample = 0.7,\n",
    "        colsample_bytree = 0.6, max_depth = 3, scale_pos_weight = 10,\n",
    "        reg_alpha = 1, reg_lambda = 100)\n",
    "\n",
    "xgb_mod.fit(X_train, y_train)\n",
    "\n",
    "y_pred = [1 if item[1] > 0.5 else 0 for item in xgb_mod.predict_proba(X_test)]\n",
    "\n",
    "print(classification_report(y_test, y_pred))\n",
    "\n",
    "print(roc_auc_score(y_test, y_pred))"
   ]
  },
  {
   "cell_type": "code",
   "execution_count": 153,
   "metadata": {},
   "outputs": [
    {
     "data": {
      "text/plain": [
       "Index(['var1(t-5)', 'var2(t-5)', 'var3(t-5)', 'var4(t-5)', 'var5(t-5)',\n",
       "       'var6(t-5)', 'var7(t-5)', 'var8(t-5)', 'var9(t-5)', 'var10(t-5)',\n",
       "       ...\n",
       "       'var10(t)', 'var11(t)', 'var12(t)', 'var13(t)', 'var14(t)', 'var15(t)',\n",
       "       'var16(t)', 'var17(t)', 'var18(t)', 'Tacking'],\n",
       "      dtype='object', length=109)"
      ]
     },
     "execution_count": 153,
     "metadata": {},
     "output_type": "execute_result"
    }
   ],
   "source": [
    "supervised_df.columns"
   ]
  },
  {
   "cell_type": "code",
   "execution_count": 154,
   "metadata": {},
   "outputs": [],
   "source": [
    "# Get feature names and importance\n",
    "feature_names = supervised_df.columns.tolist()\n",
    "feature_names.remove('Tacking')\n",
    "\n",
    "plot_df = pd.DataFrame({\n",
    "    'Feature': feature_names,\n",
    "    'Importance': xgb_mod.feature_importances_\n",
    "})"
   ]
  },
  {
   "cell_type": "markdown",
   "metadata": {},
   "source": [
    "## General CV"
   ]
  },
  {
   "cell_type": "code",
   "execution_count": 127,
   "metadata": {},
   "outputs": [],
   "source": [
    "def custom_CV_v2(mod, X_train, y_train, X_test, y_test, parameters):\n",
    "\n",
    "    param_list = list(product(*parameters.values()))\n",
    "\n",
    "    best_acc = 0\n",
    "\n",
    "    for i, row in enumerate(param_list):\n",
    "\n",
    "        mod_dict = {key: value for (key, value) in zip(parameters.keys(), row)}\n",
    "\n",
    "        mod = mod.set_params(**mod_dict)\n",
    "        mod.fit(X_train, y_train)\n",
    "            \n",
    "        y_pred = mod.predict(X_test)\n",
    "\n",
    "        if accuracy_score(y_test, y_pred) > best_acc:\n",
    "            best_acc = accuracy_score(y_test, y_pred)\n",
    "            best_params = mod.get_params\n",
    "\n",
    "        if i % 10 == 0:\n",
    "            print(f'Current iteration is: {i}. Best accuracy is {best_acc}')\n",
    "    \n",
    "    return best_acc, best_params"
   ]
  },
  {
   "cell_type": "markdown",
   "metadata": {},
   "source": [
    "## LDA"
   ]
  },
  {
   "cell_type": "code",
   "execution_count": 139,
   "metadata": {},
   "outputs": [],
   "source": [
    "# Upsampling\n",
    "\n",
    "from imblearn.over_sampling import SMOTE\n",
    "\n",
    "SMOTE = SMOTE()\n",
    "\n",
    "# fit and apply the transform\n",
    "X_train_SMOTE, y_train_SMOTE = SMOTE.fit_resample(X_train, y_train)"
   ]
  },
  {
   "cell_type": "code",
   "execution_count": 140,
   "metadata": {},
   "outputs": [
    {
     "name": "stdout",
     "output_type": "stream",
     "text": [
      "Current iteration is: 0. Best accuracy is 0.9393939393939394\n",
      "Best accuracy: 0.9393939393939394.\n",
      "Best params: <bound method BaseEstimator.get_params of LinearDiscriminantAnalysis(solver='eigen')>\n"
     ]
    }
   ],
   "source": [
    "# LDA\n",
    "# Start with solver\n",
    "grid = {'solver': ['svd', 'lsqr', 'eigen']}\n",
    "\n",
    "lda_mod = LinearDiscriminantAnalysis()\n",
    "best_acc, best_params = custom_CV_v2(lda_mod, X_train_SMOTE, y_train_SMOTE, X_test, y_test, grid)\n",
    "print(f'Best accuracy: {best_acc}.\\nBest params: {best_params}')"
   ]
  },
  {
   "cell_type": "code",
   "execution_count": 141,
   "metadata": {},
   "outputs": [
    {
     "name": "stdout",
     "output_type": "stream",
     "text": [
      "              precision    recall  f1-score   support\n",
      "\n",
      "         0.0       0.97      0.97      0.97       898\n",
      "         1.0       0.67      0.67      0.67        92\n",
      "\n",
      "    accuracy                           0.94       990\n",
      "   macro avg       0.82      0.82      0.82       990\n",
      "weighted avg       0.94      0.94      0.94       990\n",
      "\n",
      "0.8202527355475937\n"
     ]
    }
   ],
   "source": [
    "# accuracy = .93939\n",
    "lda_mod = LinearDiscriminantAnalysis(solver='eigen')\n",
    "lda_mod.fit(X_train_SMOTE, y_train_SMOTE)\n",
    "y_pred = lda_mod.predict(X_test)\n",
    "print(classification_report(y_test, y_pred))\n",
    "print(roc_auc_score(y_test, y_pred))"
   ]
  },
  {
   "cell_type": "markdown",
   "metadata": {},
   "source": [
    "## QDA"
   ]
  },
  {
   "cell_type": "code",
   "execution_count": 142,
   "metadata": {},
   "outputs": [
    {
     "name": "stdout",
     "output_type": "stream",
     "text": [
      "Current iteration is: 0. Best accuracy is 0.8777777777777778\n",
      "Best accuracy: 0.9222222222222223.\n",
      "Best params: <bound method BaseEstimator.get_params of QuadraticDiscriminantAnalysis(reg_param=0.5)>\n"
     ]
    }
   ],
   "source": [
    "# QDA\n",
    "\n",
    "grid = {'reg_param': [0, 0.1, 0.2, 0.3, 0.4, 0.5]}\n",
    "\n",
    "qda_mod = QuadraticDiscriminantAnalysis()\n",
    "best_acc, best_params = custom_CV_v2(qda_mod, X_train_SMOTE, y_train_SMOTE, X_test, y_test, grid)\n",
    "print(f'Best accuracy: {best_acc}.\\nBest params: {best_params}')"
   ]
  },
  {
   "cell_type": "code",
   "execution_count": 143,
   "metadata": {},
   "outputs": [
    {
     "name": "stdout",
     "output_type": "stream",
     "text": [
      "              precision    recall  f1-score   support\n",
      "\n",
      "         0.0       0.96      0.95      0.96       898\n",
      "         1.0       0.57      0.63      0.60        92\n",
      "\n",
      "    accuracy                           0.92       990\n",
      "   macro avg       0.77      0.79      0.78       990\n",
      "weighted avg       0.93      0.92      0.92       990\n",
      "\n",
      "0.7912752977631452\n"
     ]
    }
   ],
   "source": [
    "# accuracy = .9222\n",
    "qda_mod = QuadraticDiscriminantAnalysis(reg_param=0.5)\n",
    "qda_mod.fit(X_train_SMOTE, y_train_SMOTE)\n",
    "y_pred = qda_mod.predict(X_test)\n",
    "print(classification_report(y_test, y_pred))\n",
    "print(roc_auc_score(y_test, y_pred))"
   ]
  },
  {
   "cell_type": "markdown",
   "metadata": {},
   "source": [
    "## SVM"
   ]
  },
  {
   "cell_type": "code",
   "execution_count": 144,
   "metadata": {},
   "outputs": [
    {
     "name": "stdout",
     "output_type": "stream",
     "text": [
      "Current iteration is: 0. Best accuracy is 0.09292929292929293\n",
      "Current iteration is: 10. Best accuracy is 0.9343434343434344\n",
      "Current iteration is: 20. Best accuracy is 0.9343434343434344\n",
      "Current iteration is: 30. Best accuracy is 0.9363636363636364\n",
      "Current iteration is: 40. Best accuracy is 0.9363636363636364\n",
      "Current iteration is: 50. Best accuracy is 0.9363636363636364\n",
      "Current iteration is: 60. Best accuracy is 0.9393939393939394\n",
      "Current iteration is: 70. Best accuracy is 0.9393939393939394\n",
      "Best accuracy: 0.9393939393939394.\n",
      "Best params: <bound method BaseEstimator.get_params of SVC(C=10, gamma=0.001, kernel='sigmoid', random_state=0)>\n"
     ]
    }
   ],
   "source": [
    "# SVM\n",
    "svm_mod = SVC(random_state=0)\n",
    "\n",
    "# First test if linear kernel is selected\n",
    "# grid = {'kernel': ['linear', 'poly', 'rbf', 'sigmoid']}\n",
    "\n",
    "# As linear kernel is not best, also tune other parameters\n",
    "grid = {\n",
    "    'C': [.01, .1, 1, 10],\n",
    "    'kernel': ['poly', 'rbf', 'sigmoid'],\n",
    "    'gamma': ['auto', 10, 1, .1, .01, .001]\n",
    "}\n",
    "\n",
    "best_acc, best_params = custom_CV_v2(svm_mod, X_train_SMOTE, y_train_SMOTE, X_test, y_test, grid)\n",
    "print(f'Best accuracy: {best_acc}.\\nBest params: {best_params}')"
   ]
  },
  {
   "cell_type": "code",
   "execution_count": 129,
   "metadata": {},
   "outputs": [
    {
     "name": "stdout",
     "output_type": "stream",
     "text": [
      "              precision    recall  f1-score   support\n",
      "\n",
      "         0.0       0.96      0.97      0.96       898\n",
      "         1.0       0.66      0.64      0.65        92\n",
      "\n",
      "    accuracy                           0.94       990\n",
      "   macro avg       0.81      0.80      0.81       990\n",
      "weighted avg       0.93      0.94      0.94       990\n",
      "\n",
      "0.8033915948484555\n"
     ]
    }
   ],
   "source": [
    "# accuracy = .93939\n",
    "svm_mod = SVC(C=10, gamma=0.001, kernel='sigmoid', random_state=0)\n",
    "svm_mod.fit(X_train_SMOTE, y_train_SMOTE)\n",
    "y_pred = svm_mod.predict(X_test)\n",
    "print(classification_report(y_test, y_pred))\n",
    "print(roc_auc_score(y_test, y_pred))"
   ]
  },
  {
   "cell_type": "markdown",
   "metadata": {},
   "source": [
    "## KNN"
   ]
  },
  {
   "cell_type": "code",
   "execution_count": 145,
   "metadata": {},
   "outputs": [
    {
     "name": "stdout",
     "output_type": "stream",
     "text": [
      "Current iteration is: 0. Best accuracy is 0.7848484848484848\n",
      "Current iteration is: 10. Best accuracy is 0.8323232323232324\n",
      "Current iteration is: 20. Best accuracy is 0.8323232323232324\n",
      "Current iteration is: 30. Best accuracy is 0.8545454545454545\n",
      "Current iteration is: 40. Best accuracy is 0.8838383838383839\n",
      "Current iteration is: 50. Best accuracy is 0.9101010101010101\n",
      "Current iteration is: 60. Best accuracy is 0.9191919191919192\n",
      "Current iteration is: 70. Best accuracy is 0.9363636363636364\n",
      "Current iteration is: 80. Best accuracy is 0.9393939393939394\n",
      "Current iteration is: 90. Best accuracy is 0.9393939393939394\n",
      "Best accuracy: 0.9393939393939394.\n",
      "Best params: <bound method BaseEstimator.get_params of KNeighborsClassifier(n_neighbors=99)>\n"
     ]
    }
   ],
   "source": [
    "# KNN Classifier object\n",
    "knn = KNeighborsClassifier()\n",
    "# Hyperparameters\n",
    "grid = dict(n_neighbors=list(range(1, 100)))\n",
    "\n",
    "best_acc, best_params = custom_CV_v2(knn, X_train_SMOTE, y_train_SMOTE, X_test, y_test, grid)\n",
    "print(f'Best accuracy: {best_acc}.\\nBest params: {best_params}')"
   ]
  },
  {
   "cell_type": "code",
   "execution_count": 146,
   "metadata": {},
   "outputs": [
    {
     "name": "stdout",
     "output_type": "stream",
     "text": [
      "              precision    recall  f1-score   support\n",
      "\n",
      "         0.0       0.96      0.96      0.96       898\n",
      "         1.0       0.60      0.64      0.62        92\n",
      "\n",
      "    accuracy                           0.93       990\n",
      "   macro avg       0.78      0.80      0.79       990\n",
      "weighted avg       0.93      0.93      0.93       990\n",
      "\n",
      "0.7983804589909944\n"
     ]
    }
   ],
   "source": [
    "# accuracy = .93939\n",
    "knn = KNeighborsClassifier(n_neighbors=199)\n",
    "knn.fit(X_train_SMOTE, y_train_SMOTE)\n",
    "y_pred = knn.predict(X_test)\n",
    "print(classification_report(y_test, y_pred))\n",
    "print(roc_auc_score(y_test, y_pred))"
   ]
  },
  {
   "cell_type": "markdown",
   "metadata": {},
   "source": [
    "## Predicting time to tack"
   ]
  },
  {
   "cell_type": "code",
   "execution_count": 82,
   "metadata": {},
   "outputs": [],
   "source": [
    "cat_df = data.loc[1:, ['ModePilote', 'time_to_tack']]\n",
    "full_df = pd.concat([scaled_df, cat_df], axis=1, ignore_index=True)\n",
    "full_df = full_df.dropna()"
   ]
  },
  {
   "cell_type": "code",
   "execution_count": 83,
   "metadata": {},
   "outputs": [],
   "source": [
    "# Split into train and test sets\n",
    "values = full_df.values\n",
    "n_train_hours = int(round(values.shape[0]*0.7, 0))\n",
    "train = values[:n_train_hours, :]\n",
    "test = values[n_train_hours:, :]\n",
    "\n",
    "# Split into input and outputs\n",
    "X_train, y_train = train[:, :-1], train[:, -1]\n",
    "X_test, y_test = test[:, :-1], test[:, -1]"
   ]
  },
  {
   "cell_type": "code",
   "execution_count": 90,
   "metadata": {},
   "outputs": [
    {
     "data": {
      "text/plain": [
       "XGBRegressor(base_score=0.5, booster='gbtree', colsample_bylevel=1,\n",
       "             colsample_bynode=1, colsample_bytree=0.8, enable_categorical=False,\n",
       "             eta=0.2, gamma=0.1, gpu_id=-1, importance_type=None,\n",
       "             interaction_constraints='', learning_rate=0.200000003,\n",
       "             max_delta_step=0, max_depth=8, min_child_weight=5, missing=nan,\n",
       "             monotone_constraints='()', n_estimators=100, n_jobs=12,\n",
       "             num_parallel_tree=1, predictor='auto', random_state=47,\n",
       "             reg_alpha=1, reg_lambda=1, scale_pos_weight=1, subsample=0.8,\n",
       "             tree_method='exact', validate_parameters=1, verbosity=None)"
      ]
     },
     "execution_count": 90,
     "metadata": {},
     "output_type": "execute_result"
    }
   ],
   "source": [
    "xgb_mod = xgb.XGBRegressor(random_state=47, eta=0.2, min_child_weight=5, gamma=0.1,\n",
    "subsample=0.8, colsample_bytree=0.8, max_depth=8, reg_alpha=1, reg_lambda=1)\n",
    "\n",
    "xgb_mod.fit(X_train, y_train)"
   ]
  },
  {
   "cell_type": "code",
   "execution_count": 91,
   "metadata": {},
   "outputs": [
    {
     "name": "stdout",
     "output_type": "stream",
     "text": [
      "-2.194805435586546\n"
     ]
    }
   ],
   "source": [
    "y_pred = xgb_mod.predict(X_test)\n",
    "print(r2_score(y_test, y_pred))"
   ]
  }
 ],
 "metadata": {
  "interpreter": {
   "hash": "3418417383af331fcbc8316060ae8874514fff1df7fef283aa38a0cc727c6ead"
  },
  "kernelspec": {
   "display_name": "Python 3.7.4 64-bit ('base': conda)",
   "language": "python",
   "name": "python3"
  },
  "language_info": {
   "codemirror_mode": {
    "name": "ipython",
    "version": 3
   },
   "file_extension": ".py",
   "mimetype": "text/x-python",
   "name": "python",
   "nbconvert_exporter": "python",
   "pygments_lexer": "ipython3",
   "version": "3.8.12"
  },
  "orig_nbformat": 4
 },
 "nbformat": 4,
 "nbformat_minor": 2
}
